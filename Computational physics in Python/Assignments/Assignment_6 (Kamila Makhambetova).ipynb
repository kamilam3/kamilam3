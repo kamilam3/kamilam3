{
 "cells": [
  {
   "cell_type": "markdown",
   "metadata": {},
   "source": [
    "### Author: Kamila Makhambetova"
   ]
  },
  {
   "cell_type": "markdown",
   "metadata": {},
   "source": [
    "# Assignment 6\n",
    "\n",
    "## Problem 1\n",
    "\n",
    "### 1.1"
   ]
  },
  {
   "cell_type": "code",
   "execution_count": 15,
   "metadata": {},
   "outputs": [
    {
     "name": "stdout",
     "output_type": "stream",
     "text": [
      "The value of integral = 0.42241831194644774 with error=4.689785358217683e-15\n"
     ]
    }
   ],
   "source": [
    "from scipy.integrate import quad\n",
    "def f(x):\n",
    "    return ((x**4)*((2-x)**4))/(1+x**2)\n",
    "\n",
    "ans,err=quad(f,0,2)\n",
    "print(f'The value of integral = {ans} with error={err}')\n",
    "\n",
    "\n",
    "\n"
   ]
  },
  {
   "cell_type": "markdown",
   "metadata": {},
   "source": [
    "### 1.2"
   ]
  },
  {
   "cell_type": "code",
   "execution_count": 16,
   "metadata": {},
   "outputs": [
    {
     "name": "stdout",
     "output_type": "stream",
     "text": [
      "\n",
      " I_GQ=0.22415040451952173 for m=2 \n",
      "\n",
      "\n",
      " I_GQ=0.4211428986425137 for m=5 \n",
      "\n"
     ]
    }
   ],
   "source": [
    "def Gaussquadr(m,a,b):\n",
    "    d1=(b-a)/2\n",
    "    d2=(b+a)/2\n",
    "    if m==2:\n",
    "        x2=[-0.5774,0.5774]\n",
    "        c2=[1,1]\n",
    "        I=0\n",
    "        for i in range (0,m):\n",
    "            l=d1*x2[i]+d2\n",
    "            I=I+f(l)*c2[i]\n",
    "            #print(f'fx2{i}={f(l)},c2{i}={c2[i]} I={I}')\n",
    "        return I*d1\n",
    "    \n",
    "    if m==3:\n",
    "        x3=[-0.7746,0,0.7746]\n",
    "        c3=[0.5556,0.8889,0.5556]\n",
    "        I=0\n",
    "        for i in range (0,m):\n",
    "            l=d1*x3[i]+d2\n",
    "            I=I+f(l)*c3[i]\n",
    "            #print(f'fx3{i}={f(l)},c3{i}={c3[i]} I={I}')\n",
    "        return I*d1\n",
    "    \n",
    "    if m==4:\n",
    "        x4=[-0.8611,-0.34,0.34,0.8611]\n",
    "        c4=[0.3479,0.6521,0.6521,0.3479]\n",
    "        I=0\n",
    "        for i in range (0,m):\n",
    "            l=d1*x4[i]+d2\n",
    "            I=I+f(l)*c4[i]\n",
    "            #print(f'fx4{i}={f(l)},c4{i}={c4[i]} I={I}')\n",
    "        return I*d1\n",
    "    \n",
    "    if m==5:\n",
    "        x5=[-0.9062,-0.5385,0,0.5385,0.9062]\n",
    "        c5=[0.2369,0.4786,0.5689,0.4786,0.2369]\n",
    "        I=0\n",
    "        for i in range (0,m):\n",
    "            l=d1*x5[i]+d2\n",
    "            I=I+f(l)*c5[i]\n",
    "            #print(f'fx5{i}={f(l)},c5{i}={c5[i]} I={I}')\n",
    "        return I*d1\n",
    "    \n",
    "    if m==6:\n",
    "        x6=[-0.9325,-0.6612,-0.2386,0.2386,0.6612,0.9325]\n",
    "        c6=[0.1713,0.3608,0.4679,0.4679,0.3608,0.1713]\n",
    "        I=0\n",
    "        for i in range (0,m):\n",
    "            l=d1*x6[i]+d2\n",
    "            I=I+f(l)*c6[i]\n",
    "            #print(f'fx6{i}={f(l)},c6{i}={c6[i]} I={I}')\n",
    "        return I*d1\n",
    "    \n",
    "    if m==7:\n",
    "        x7=[-0.9491,-0.7415,-0.4058,0,0.4058,0.7415,0.9491]\n",
    "        c7=[0.1295,0.2797,0.3818,0.418,0.3818,0.2797,0.1295]\n",
    "        I=0\n",
    "        for i in range (0,m):\n",
    "            l=d1*x7[i]+d2\n",
    "            I=I+f(l)*c7[i]\n",
    "            #print(f'fx7{i}={f(l)},c7{i}={c7[i]} I={I}')\n",
    "        return I*d1\n",
    "    \n",
    "g2=Gaussquadr(2,0,2)\n",
    "print(f'\\n I_GQ={g2} for m=2 \\n')\n",
    "g5=Gaussquadr(5,0,2)\n",
    "print(f'\\n I_GQ={g5} for m=5 \\n')  "
   ]
  },
  {
   "cell_type": "markdown",
   "metadata": {},
   "source": [
    "### 1.3"
   ]
  },
  {
   "cell_type": "code",
   "execution_count": 17,
   "metadata": {},
   "outputs": [
    {
     "data": {
      "image/png": "[encoded data removed]",
      "text/plain": [
       "<Figure size 432x288 with 1 Axes>"
      ]
     },
     "metadata": {
      "needs_background": "light"
     },
     "output_type": "display_data"
    }
   ],
   "source": [
    "import matplotlib.pyplot as plt\n",
    "import numpy as np\n",
    "\n",
    "def relerr(m):\n",
    "    ans,err=quad(f,0,2)\n",
    "    return (ans-Gaussquadr(m,0,2))*100/ans\n",
    "\n",
    "reler=[]\n",
    "\n",
    "for m in range (2,8):\n",
    "    reler.append(relerr(m))\n",
    "\n",
    "\n",
    "m=np.arange(2,8,1)\n",
    "plt.title('Graph: Gauss points m versus true relative error %',size=15)\n",
    "plt.plot(m,reler)\n",
    "plt.scatter(m,reler,c='r')\n",
    "plt.xlabel(r'Gauss points m',size=15)\n",
    "plt.ylabel(r'true relative error %',size=15)\n",
    "#plt.hlines(0,min(m),max(m),linestyles='dashed')\n",
    "plt.grid(linestyle=':',color='k')\n",
    "plt.show()"
   ]
  },
  {
   "cell_type": "markdown",
   "metadata": {},
   "source": [
    "## Problem 2\n",
    "\n",
    "### 2.1"
   ]
  },
  {
   "cell_type": "code",
   "execution_count": 4,
   "metadata": {},
   "outputs": [
    {
     "name": "stdout",
     "output_type": "stream",
     "text": [
      "\u001b[1m\n",
      " Table 1: 64 points and function value at them\n",
      "\n",
      " point #         t           f(t)        \u001b[0m\n",
      "   1       0.000000000   1.000000000 \n",
      "   2       0.098174770   0.845854910 \n",
      "   3       0.196349541   0.172886801 \n",
      "   4       0.294524311   -0.207774827 \n",
      "   5       0.392699082   0.216772751 \n",
      "   6       0.490873852   1.190275049 \n",
      "   7       0.589048623   1.904664813 \n",
      "   8       0.687223393   1.713390877 \n",
      "   9       0.785398163   0.707106781 \n",
      "  10       0.883572934   -0.360072875 \n",
      "  11       0.981747704   -0.728789210 \n",
      "  12       1.079922475   -0.293107462 \n",
      "  13       1.178097245   0.324423349 \n",
      "  14       1.276272016   0.346391996 \n",
      "  15       1.374446786   -0.448786180 \n",
      "  16       1.472621556   -1.512510569 \n",
      "  17       1.570796327   -2.000000000 \n",
      "  18       1.668971097   -1.512510569 \n",
      "  19       1.767145868   -0.448786180 \n",
      "  20       1.865320638   0.346391996 \n",
      "  21       1.963495408   0.324423349 \n",
      "  22       2.061670179   -0.293107462 \n",
      "  23       2.159844949   -0.728789210 \n",
      "  24       2.258019720   -0.360072875 \n",
      "  25       2.356194490   0.707106781 \n",
      "  26       2.454369261   1.713390877 \n",
      "  27       2.552544031   1.904664813 \n",
      "  28       2.650718801   1.190275049 \n",
      "  29       2.748893572   0.216772751 \n",
      "  30       2.847068342   -0.207774827 \n",
      "  31       2.945243113   0.172886801 \n",
      "  32       3.043417883   0.845854910 \n",
      "  33       3.141592654   1.000000000 \n",
      "  34       3.239767424   0.265285556 \n",
      "  35       3.337942194   -0.938253665 \n",
      "  36       3.436116965   -1.753795734 \n",
      "  37       3.534291735   -1.630986314 \n",
      "  38       3.632466506   -0.800094405 \n",
      "  39       3.730641276   -0.056905748 \n",
      "  40       3.828816047   -0.050451652 \n",
      "  41       3.926990817   -0.707106781 \n",
      "  42       4.025165587   -1.302866349 \n",
      "  43       4.123340358   -1.118969855 \n",
      "  44       4.221515128   -0.097073182 \n",
      "  45       4.319689899   1.089790214 \n",
      "  46       4.417864669   1.615178565 \n",
      "  47       4.516039440   1.214153045 \n",
      "  48       4.614214210   0.401370103 \n",
      "  49       4.712388980   0.000000000 \n",
      "  50       4.810563751   0.401370103 \n",
      "  51       4.908738521   1.214153045 \n",
      "  52       5.006913292   1.615178565 \n",
      "  53       5.105088062   1.089790214 \n",
      "  54       5.203262833   -0.097073182 \n",
      "  55       5.301437603   -1.118969855 \n",
      "  56       5.399612373   -1.302866349 \n",
      "  57       5.497787144   -0.707106781 \n",
      "  58       5.595961914   -0.050451652 \n",
      "  59       5.694136685   -0.056905748 \n",
      "  60       5.792311455   -0.800094405 \n",
      "  61       5.890486225   -1.630986314 \n",
      "  62       5.988660996   -1.753795734 \n",
      "  63       6.086835766   -0.938253665 \n",
      "  64       6.185010537   0.265285556 \n"
     ]
    }
   ],
   "source": [
    "import numpy as np\n",
    "import math\n",
    "\n",
    "def f(t):\n",
    "    return np.cos(10*t)+np.sin(3*t)\n",
    "\n",
    "dt=(2*math.pi)/64\n",
    "\n",
    "t = np.arange(0, 2*np.pi, dt)\n",
    "ft = np.array(f(t))\n",
    "\n",
    "print('\\033[1m'+'\\n Table 1: 64 points and function value at them')\n",
    "print('\\n {:15} {:11} {:11} \\033[0m'.format('point #','t','f(t)'))\n",
    "\n",
    "for i in range (0,len(ft)):\n",
    "    print(f'{i+1:4}      {t[i]:12.9f}   {ft[i]:2.9f} ')\n"
   ]
  },
  {
   "cell_type": "markdown",
   "metadata": {},
   "source": [
    "### 2.2"
   ]
  },
  {
   "cell_type": "code",
   "execution_count": 12,
   "metadata": {},
   "outputs": [
    {
     "name": "stdout",
     "output_type": "stream",
     "text": [
      "noise signal =0.44122748688504143 \n",
      "\u001b[1m\n",
      " Table 2: 64 points and function value with noise at them\n",
      "\n",
      " point#       t            f(t)        f(t) with noise\u001b[0m\n",
      " 1       0.000000000    1.000000000     1.441227487 \n",
      " 2       0.098174770    0.845854910     1.287082397 \n",
      " 3       0.196349541    0.172886801     0.614114288 \n",
      " 4       0.294524311   -0.207774827     0.233452660 \n",
      " 5       0.392699082    0.216772751     0.658000238 \n",
      " 6       0.490873852    1.190275049     1.631502536 \n",
      " 7       0.589048623    1.904664813     2.345892300 \n",
      " 8       0.687223393    1.713390877     2.154618364 \n",
      " 9       0.785398163    0.707106781     1.148334268 \n",
      "10       0.883572934   -0.360072875     0.081154611 \n",
      "11       0.981747704   -0.728789210    -0.287561724 \n",
      "12       1.079922475   -0.293107462     0.148120025 \n",
      "13       1.178097245    0.324423349     0.765650836 \n",
      "14       1.276272016    0.346391996     0.787619483 \n",
      "15       1.374446786   -0.448786180    -0.007558693 \n",
      "16       1.472621556   -1.512510569    -1.071283082 \n",
      "17       1.570796327   -2.000000000    -1.558772513 \n",
      "18       1.668971097   -1.512510569    -1.071283082 \n",
      "19       1.767145868   -0.448786180    -0.007558693 \n",
      "20       1.865320638    0.346391996     0.787619483 \n",
      "21       1.963495408    0.324423349     0.765650836 \n",
      "22       2.061670179   -0.293107462     0.148120025 \n",
      "23       2.159844949   -0.728789210    -0.287561724 \n",
      "24       2.258019720   -0.360072875     0.081154611 \n",
      "25       2.356194490    0.707106781     1.148334268 \n",
      "26       2.454369261    1.713390877     2.154618364 \n",
      "27       2.552544031    1.904664813     2.345892300 \n",
      "28       2.650718801    1.190275049     1.631502536 \n",
      "29       2.748893572    0.216772751     0.658000238 \n",
      "30       2.847068342   -0.207774827     0.233452660 \n",
      "31       2.945243113    0.172886801     0.614114288 \n",
      "32       3.043417883    0.845854910     1.287082397 \n",
      "33       3.141592654    1.000000000     1.441227487 \n",
      "34       3.239767424    0.265285556     0.706513043 \n",
      "35       3.337942194   -0.938253665    -0.497026178 \n",
      "36       3.436116965   -1.753795734    -1.312568247 \n",
      "37       3.534291735   -1.630986314    -1.189758827 \n",
      "38       3.632466506   -0.800094405    -0.358866918 \n",
      "39       3.730641276   -0.056905748     0.384321739 \n",
      "40       3.828816047   -0.050451652     0.390775835 \n",
      "41       3.926990817   -0.707106781    -0.265879294 \n",
      "42       4.025165587   -1.302866349    -0.861638862 \n",
      "43       4.123340358   -1.118969855    -0.677742368 \n",
      "44       4.221515128   -0.097073182     0.344154305 \n",
      "45       4.319689899    1.089790214     1.531017700 \n",
      "46       4.417864669    1.615178565     2.056406051 \n",
      "47       4.516039440    1.214153045     1.655380532 \n",
      "48       4.614214210    0.401370103     0.842597590 \n",
      "49       4.712388980    0.000000000     0.441227487 \n",
      "50       4.810563751    0.401370103     0.842597590 \n",
      "51       4.908738521    1.214153045     1.655380532 \n",
      "52       5.006913292    1.615178565     2.056406051 \n",
      "53       5.105088062    1.089790214     1.531017700 \n",
      "54       5.203262833   -0.097073182     0.344154305 \n",
      "55       5.301437603   -1.118969855    -0.677742368 \n",
      "56       5.399612373   -1.302866349    -0.861638862 \n",
      "57       5.497787144   -0.707106781    -0.265879294 \n",
      "58       5.595961914   -0.050451652     0.390775835 \n",
      "59       5.694136685   -0.056905748     0.384321739 \n",
      "60       5.792311455   -0.800094405    -0.358866918 \n",
      "61       5.890486225   -1.630986314    -1.189758827 \n",
      "62       5.988660996   -1.753795734    -1.312568247 \n",
      "63       6.086835766   -0.938253665    -0.497026178 \n",
      "64       6.185010537    0.265285556     0.706513043 \n"
     ]
    }
   ],
   "source": [
    "import numpy as np\n",
    " \n",
    "np.random.seed(5)\n",
    "noise = np.random.randn()\n",
    "print(f'noise signal ={noise} ')   \n",
    "\n",
    "noisesig=np.zeros(len(ft))\n",
    "\n",
    "for i in range (0,len(ft)):\n",
    "    noisesig[i]=noise\n",
    "    \n",
    "ft2=noisesig+ft\n",
    "\n",
    "print('\\033[1m'+'\\n Table 2: 64 points and function value with noise at them')\n",
    "print('\\n {:12} {:12} {:11} {:11}\\033[0m'.format('point#','t','f(t)','f(t) with noise'))\n",
    "\n",
    "for i in range (0,len(ft2)):\n",
    "    print(f'{i+1:2}      {t[i]:12.9f}   {ft[i]:12.9f}    {ft2[i]:12.9f} ')\n",
    "\n"
   ]
  },
  {
   "cell_type": "markdown",
   "metadata": {},
   "source": [
    "### 2.3"
   ]
  },
  {
   "cell_type": "code",
   "execution_count": 13,
   "metadata": {},
   "outputs": [
    {
     "name": "stdout",
     "output_type": "stream",
     "text": [
      "\u001b[1m\n",
      " Table 3: discrete Fourier Transform (DFT) of 64 points with noise\n",
      "\n",
      " point#   t         f(t) with noise       DFT of this point  \u001b[0m\n",
      " 1    0.000000000    1.441227487     (28.238559160642634+0j) \n",
      " 2    0.098174770    1.287082397     (4.9380447292299684e-15-7.900915141138464e-15j) \n",
      " 3    0.196349541    0.614114288     (2.915214291269623e-15+4.7176491621783224e-15j) \n",
      " 4    0.294524311    0.233452660     (-7.105427357601002e-15-32.00000000000001j) \n",
      " 5    0.392699082    0.658000238     (7.79242911340323e-15+2.2753419517405794e-15j) \n",
      " 6    0.490873852    1.631502536     (5.678949902799223e-15-2.3693281487777568e-15j) \n",
      " 7    0.589048623    2.345892300     (-1.4558474731238964e-14+1.497453045763264e-14j) \n",
      " 8    0.687223393    2.154618364     (-2.507457668407671e-15-3.2164040207908268e-15j) \n",
      " 9    0.785398163    1.148334268     (-8.84639482413928e-15-1.6163116653041857e-16j) \n",
      "10    0.883572934    0.081154611     (-9.030569723180247e-15-7.1804666603186e-15j) \n",
      "11    0.981747704   -0.287561724     (31.999999999999996-3.730349362740526e-14j) \n",
      "12    1.079922475    0.148120025     (1.149245478520747e-14-6.4462983275023324e-15j) \n",
      "13    1.178097245    0.765650836     (8.298980484845642e-15-5.50891827953357e-15j) \n",
      "14    1.276272016    0.787619483     (2.2384576144857472e-14-1.651254347049196e-14j) \n",
      "15    1.374446786   -0.007558693     (2.842451625990855e-14+1.6673912485259663e-14j) \n",
      "16    1.472621556   -1.071283082     (6.646883173241129e-15+2.0941283921641903e-14j) \n",
      "17    1.570796327   -1.558772513     (-2.1316282072803006e-14+1.2434497875801753e-14j) \n",
      "18    1.668971097   -1.071283082     (2.2536690729096034e-15-1.2501733551609261e-14j) \n",
      "19    1.767145868   -0.007558693     (1.5651337817710168e-14+1.7562090904959788e-14j) \n",
      "20    1.865320638    0.787619483     (-1.883186246605697e-14+3.0273817629107938e-15j) \n",
      "21    1.963495408    0.765650836     (7.81830178786992e-15-2.3910499692590475e-15j) \n",
      "22    2.061670179    0.148120025     (-1.7224921685060916e-15+9.985002436949984e-15j) \n",
      "23    2.159844949   -0.287561724     (-1.2434497875801753e-14+0j) \n",
      "24    2.258019720    0.081154611     (4.854009915100906e-16-8.519551039254572e-15j) \n",
      "25    2.356194490    1.148334268     (1.062275166353953e-14-5.49070168473117e-15j) \n",
      "26    2.454369261    2.154618364     (7.94400193112739e-15+1.409625841397583e-14j) \n",
      "27    2.552544031    2.345892300     (-2.761004452913479e-15+1.0533638359132016e-14j) \n",
      "28    2.650718801    1.631502536     (-5.678949902799223e-15-3.701595778327945e-15j) \n",
      "29    2.748893572    0.658000238     (8.952890142785841e-15+9.83410236051573e-15j) \n",
      "30    2.847068342    0.233452660     (-1.4210854715202004e-14+8.881784197001252e-15j) \n",
      "31    2.945243113    0.614114288     (-1.1241886975958297e-14+1.1823076519779324e-14j) \n",
      "32    3.043417883    1.287082397     (-1.0729972506430263e-14-4.928617406684494e-15j) \n",
      "33    3.141592654    1.441227487     0j \n",
      "34    3.239767424    0.706513043     (-1.0729972506430263e-14+4.928617406684494e-15j) \n",
      "35    3.337942194   -0.497026178     (-1.1241886975958297e-14-1.1823076519779324e-14j) \n",
      "36    3.436116965   -1.312568247     (-1.4210854715202004e-14-8.881784197001252e-15j) \n",
      "37    3.534291735   -1.189758827     (8.952890142785841e-15-9.83410236051573e-15j) \n",
      "38    3.632466506   -0.358866918     (-5.678949902799223e-15+3.701595778327945e-15j) \n",
      "39    3.730641276    0.384321739     (-2.761004452913479e-15-1.0533638359132016e-14j) \n",
      "40    3.828816047    0.390775835     (7.94400193112739e-15-1.409625841397583e-14j) \n",
      "41    3.926990817   -0.265879294     (1.062275166353953e-14+5.49070168473117e-15j) \n",
      "42    4.025165587   -0.861638862     (4.854009915100906e-16+8.519551039254572e-15j) \n",
      "43    4.123340358   -0.677742368     (-1.2434497875801753e-14-0j) \n",
      "44    4.221515128    0.344154305     (-1.7224921685060916e-15-9.985002436949984e-15j) \n",
      "45    4.319689899    1.531017700     (7.81830178786992e-15+2.3910499692590475e-15j) \n",
      "46    4.417864669    2.056406051     (-1.883186246605697e-14-3.0273817629107938e-15j) \n",
      "47    4.516039440    1.655380532     (1.5651337817710168e-14-1.7562090904959788e-14j) \n",
      "48    4.614214210    0.842597590     (2.2536690729096034e-15+1.2501733551609261e-14j) \n",
      "49    4.712388980    0.441227487     (-2.1316282072803006e-14-1.2434497875801753e-14j) \n",
      "50    4.810563751    0.842597590     (6.646883173241129e-15-2.0941283921641903e-14j) \n",
      "51    4.908738521    1.655380532     (2.842451625990855e-14-1.6673912485259663e-14j) \n",
      "52    5.006913292    2.056406051     (2.2384576144857472e-14+1.651254347049196e-14j) \n",
      "53    5.105088062    1.531017700     (8.298980484845642e-15+5.50891827953357e-15j) \n",
      "54    5.203262833    0.344154305     (1.149245478520747e-14+6.4462983275023324e-15j) \n",
      "55    5.301437603   -0.677742368     (31.999999999999996+3.730349362740526e-14j) \n",
      "56    5.399612373   -0.861638862     (-9.030569723180247e-15+7.1804666603186e-15j) \n",
      "57    5.497787144   -0.265879294     (-8.84639482413928e-15+1.6163116653041857e-16j) \n",
      "58    5.595961914    0.390775835     (-2.507457668407671e-15+3.2164040207908268e-15j) \n",
      "59    5.694136685    0.384321739     (-1.4558474731238964e-14-1.497453045763264e-14j) \n",
      "60    5.792311455   -0.358866918     (5.678949902799223e-15+2.3693281487777568e-15j) \n",
      "61    5.890486225   -1.189758827     (7.79242911340323e-15-2.2753419517405794e-15j) \n",
      "62    5.988660996   -1.312568247     (-7.105427357601002e-15+32.00000000000001j) \n",
      "63    6.086835766   -0.497026178     (2.915214291269623e-15-4.7176491621783224e-15j) \n",
      "64    6.185010537    0.706513043     (4.9380447292299684e-15+7.900915141138464e-15j) \n"
     ]
    }
   ],
   "source": [
    "import numpy as np\n",
    "\n",
    "F = np.fft.fft(ft2)\n",
    "\n",
    "print('\\033[1m'+'\\n Table 3: discrete Fourier Transform (DFT) of 64 points with noise')\n",
    "print('\\n {:8} {:9} {:21} {:12}  \\033[0m'.format('point#','t','f(t) with noise','DFT of this point'))\n",
    "\n",
    "for i in range (0,len(F)):\n",
    "    print(f'{i+1:2} {t[i]:14.9f} {ft2[i]:14.9f}     {F[i]} ')\n",
    "    "
   ]
  },
  {
   "cell_type": "markdown",
   "metadata": {},
   "source": [
    "### 2.4"
   ]
  },
  {
   "cell_type": "code",
   "execution_count": 14,
   "metadata": {},
   "outputs": [
    {
     "data": {
      "image/png": "[encoded data removed]",
      "text/plain": [
       "<Figure size 432x288 with 1 Axes>"
      ]
     },
     "metadata": {
      "needs_background": "light"
     },
     "output_type": "display_data"
    }
   ],
   "source": [
    "import matplotlib.pyplot as plt\n",
    "\n",
    "#power spectrum\n",
    "S=np.fft.fftfreq(64,dt)\n",
    "plt.scatter(2*np.pi*S[0:32],np.abs(F[0:32])**2)\n",
    "plt.title('Graph: Power spectrum',size=15)\n",
    "plt.ylabel('$|F_k|^2$',size=15)\n",
    "plt.xlabel('$\\omega_k$',size=15)\n",
    "plt.show()\n",
    "\n",
    "\n",
    "\n"
   ]
  },
  {
   "cell_type": "markdown",
   "metadata": {},
   "source": [
    "### 2.5"
   ]
  },
  {
   "cell_type": "code",
   "execution_count": 8,
   "metadata": {},
   "outputs": [
    {
     "data": {
      "image/png": "[encoded data removed]",
      "text/plain": [
       "<Figure size 432x288 with 1 Axes>"
      ]
     },
     "metadata": {
      "needs_background": "light"
     },
     "output_type": "display_data"
    }
   ],
   "source": [
    "#phase spectrum\n",
    "x=2*np.pi*S[0:32]\n",
    "y=np.angle(F[0:32])\n",
    "\n",
    "for i in range(0,len(x)):\n",
    "    if(y[i]>0):\n",
    "        plt.vlines(x=x[i],ymin=0,ymax=y[i])\n",
    "    if (y[i]<0):\n",
    "        plt.vlines(x=x[i],ymin=y[i],ymax=0)\n",
    "    if (y[i]==0):\n",
    "        plt.vlines(x=x[i],ymin=0,ymax=y[i])\n",
    "        \n",
    "plt.title('Graph: Phase spectrum',size=15)\n",
    "plt.ylabel('$\\\\angle F_k$',size=15)\n",
    "plt.xlabel('$\\omega_k$',size=15)\n",
    "plt.show()\n",
    "\n",
    "\n"
   ]
  },
  {
   "cell_type": "markdown",
   "metadata": {},
   "source": [
    "## Problem 3"
   ]
  },
  {
   "cell_type": "markdown",
   "metadata": {},
   "source": [
    "### 3.1"
   ]
  },
  {
   "cell_type": "code",
   "execution_count": 9,
   "metadata": {},
   "outputs": [
    {
     "name": "stdout",
     "output_type": "stream",
     "text": [
      "The value of integral = 0.42241831194644774 with error=4.689785358217683e-15\n"
     ]
    }
   ],
   "source": [
    "from scipy.integrate import quad\n",
    "def f(x):\n",
    "    return ((x**4)*((2-x)**4))/(1+x**2)\n",
    "\n",
    "ans,err=quad(f,0,2)\n",
    "print(f'The value of integral = {ans} with error={err}')\n"
   ]
  },
  {
   "cell_type": "markdown",
   "metadata": {},
   "source": [
    "### 3.2"
   ]
  },
  {
   "cell_type": "code",
   "execution_count": 10,
   "metadata": {},
   "outputs": [
    {
     "name": "stdout",
     "output_type": "stream",
     "text": [
      "\n",
      " I_GQ=0.22415040451952173 for m=2 \n",
      "\n",
      "\n",
      " I_GQ=0.4211428986425137 for m=5 \n",
      "\n"
     ]
    }
   ],
   "source": [
    "def Gaussquadr(m,a,b):\n",
    "    d1=(b-a)/2\n",
    "    d2=(b+a)/2\n",
    "    if m==2:\n",
    "        x2=[-0.5774,0.5774]\n",
    "        c2=[1,1]\n",
    "        I=0\n",
    "        for i in range (0,m):\n",
    "            l=d1*x2[i]+d2\n",
    "            I=I+f(l)*c2[i]\n",
    "            #print(f'fx2{i}={f(l)},c2{i}={c2[i]} I={I}')\n",
    "        return I*d1\n",
    "    \n",
    "    if m==3:\n",
    "        x3=[-0.7746,0,0.7746]\n",
    "        c3=[0.5556,0.8889,0.5556]\n",
    "        I=0\n",
    "        for i in range (0,m):\n",
    "            l=d1*x3[i]+d2\n",
    "            I=I+f(l)*c3[i]\n",
    "            #print(f'fx3{i}={f(l)},c3{i}={c3[i]} I={I}')\n",
    "        return I*d1\n",
    "    \n",
    "    if m==4:\n",
    "        x4=[-0.8611,-0.34,0.34,0.8611]\n",
    "        c4=[0.3479,0.6521,0.6521,0.3479]\n",
    "        I=0\n",
    "        for i in range (0,m):\n",
    "            l=d1*x4[i]+d2\n",
    "            I=I+f(l)*c4[i]\n",
    "            #print(f'fx4{i}={f(l)},c4{i}={c4[i]} I={I}')\n",
    "        return I*d1\n",
    "    \n",
    "    if m==5:\n",
    "        x5=[-0.9062,-0.5385,0,0.5385,0.9062]\n",
    "        c5=[0.2369,0.4786,0.5689,0.4786,0.2369]\n",
    "        I=0\n",
    "        for i in range (0,m):\n",
    "            l=d1*x5[i]+d2\n",
    "            I=I+f(l)*c5[i]\n",
    "            #print(f'fx5{i}={f(l)},c5{i}={c5[i]} I={I}')\n",
    "        return I*d1\n",
    "    \n",
    "    if m==6:\n",
    "        x6=[-0.9325,-0.6612,-0.2386,0.2386,0.6612,0.9325]\n",
    "        c6=[0.1713,0.3608,0.4679,0.4679,0.3608,0.1713]\n",
    "        I=0\n",
    "        for i in range (0,m):\n",
    "            l=d1*x6[i]+d2\n",
    "            I=I+f(l)*c6[i]\n",
    "            #print(f'fx6{i}={f(l)},c6{i}={c6[i]} I={I}')\n",
    "        return I*d1\n",
    "    \n",
    "    if m==7:\n",
    "        x7=[-0.9491,-0.7415,-0.4058,0,0.4058,0.7415,0.9491]\n",
    "        c7=[0.1295,0.2797,0.3818,0.418,0.3818,0.2797,0.1295]\n",
    "        I=0\n",
    "        for i in range (0,m):\n",
    "            l=d1*x7[i]+d2\n",
    "            I=I+f(l)*c7[i]\n",
    "            #print(f'fx7{i}={f(l)},c7{i}={c7[i]} I={I}')\n",
    "        return I*d1\n",
    "    \n",
    "g2=Gaussquadr(2,0,2)\n",
    "print(f'\\n I_GQ={g2} for m=2 \\n')\n",
    "g5=Gaussquadr(5,0,2)\n",
    "print(f'\\n I_GQ={g5} for m=5 \\n')   \n",
    "    "
   ]
  },
  {
   "cell_type": "markdown",
   "metadata": {},
   "source": [
    "### 3.3"
   ]
  },
  {
   "cell_type": "code",
   "execution_count": 11,
   "metadata": {},
   "outputs": [
    {
     "data": {
      "image/png": "[encoded data removed]",
      "text/plain": [
       "<Figure size 432x288 with 1 Axes>"
      ]
     },
     "metadata": {
      "needs_background": "light"
     },
     "output_type": "display_data"
    }
   ],
   "source": [
    "import matplotlib.pyplot as plt\n",
    "import numpy as np\n",
    "\n",
    "def relerr(m):\n",
    "    ans,err=quad(f,0,2)\n",
    "    return (ans-Gaussquadr(m,0,2))*100/ans\n",
    "\n",
    "reler=[]\n",
    "\n",
    "for m in range (2,8):\n",
    "    reler.append(relerr(m))\n",
    "\n",
    "\n",
    "m=np.arange(2,8,1)\n",
    "plt.title('Graph: Gauss points m versus true relative error (%)',size=15)\n",
    "plt.plot(m,reler)\n",
    "plt.scatter(m,reler,c='r')\n",
    "plt.xlabel(r'Gauss points m',size=15)\n",
    "plt.ylabel(r'true relative error %',size=15)\n",
    "#plt.hlines(0,min(m),max(m),linestyles='dashed')\n",
    "plt.grid(linestyle=':',color='k')\n",
    "plt.show()"
   ]
  },
  {
   "cell_type": "code",
   "execution_count": null,
   "metadata": {},
   "outputs": [],
   "source": []
  }
 ],
 "metadata": {
  "kernelspec": {
   "display_name": "Python 3",
   "language": "python",
   "name": "python3"
  },
  "language_info": {
   "codemirror_mode": {
    "name": "ipython",
    "version": 3
   },
   "file_extension": ".py",
   "mimetype": "text/x-python",
   "name": "python",
   "nbconvert_exporter": "python",
   "pygments_lexer": "ipython3",
   "version": "3.7.4"
  }
 },
 "nbformat": 4,
 "nbformat_minor": 2
}
