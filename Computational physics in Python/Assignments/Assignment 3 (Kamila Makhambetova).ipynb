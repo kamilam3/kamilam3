{
 "cells": [
  {
   "cell_type": "markdown",
   "metadata": {},
   "source": [
    "# Assignment 3\n",
    "Author: Kamila Makhambetova"
   ]
  },
  {
   "cell_type": "code",
   "execution_count": 78,
   "metadata": {},
   "outputs": [
    {
     "data": {
      "image/png": "[encoded data removed]",
      "text/plain": [
       "<Figure size 432x288 with 1 Axes>"
      ]
     },
     "metadata": {
      "needs_background": "light"
     },
     "output_type": "display_data"
    }
   ],
   "source": [
    "import numpy as np\n",
    "import matplotlib.pyplot as plt\n",
    "import math\n",
    "\n",
    "def f1 (E):\n",
    "    #w in m\n",
    "    w=10**(-9)\n",
    "    m=9.1094*(10**-31)\n",
    "    # h in J*s\n",
    "    h1=1.0545*(10**-34)\n",
    "    # h in eV*s\n",
    "    h2=6.5821*(10**-16)\n",
    "    x=(w*w*m*E)/(2*h1*h2)\n",
    "    f1=np.tan(np.sqrt(x))\n",
    "    return f1\n",
    "\n",
    "def f2 (E):\n",
    "    V=20\n",
    "    f2=np.sqrt((V-E)/E)\n",
    "    return f2\n",
    "\n",
    "def f3 (E):\n",
    "    V=20\n",
    "    f3=-np.sqrt(E/(V-E))\n",
    "    return f3\n",
    "\n",
    "x=np.arange(0.1,19.9,0.5)\n",
    "plt.plot(x,f1(x),label=r'$tan(sqrt(w^2*m*E/2*h^2))$')\n",
    "plt.plot(x,f2(x),label=r'$sqrt(V-E/E)$')\n",
    "plt.plot(x,f3(x),label=r'$-sqrt(E/V-E)$')\n",
    "plt.legend(loc='lower left',fontsize='10',frameon=False)\n",
    "plt.xlabel(r'$E (eV)$',size=12)\n",
    "plt.ylabel(r'$y(E)$',size=12)\n",
    "plt.title('Schrodinger’s equation ')\n",
    "plt.grid()\n",
    "plt.show()\n",
    "\n",
    "#As the  Schrodinger’s equation starts from n=0 (even), we look at the intersection of orange and blue graphs.\n",
    "#They intersect on [2.4,3] interval approximately at x=2.7 eV. Then we look at intersection of green and blue \n",
    "#graphs as n=1 (odd). They intersect on [3.1,3.6] interval approximately at x=3.2 eV. Continue in such way.\n",
    "#at n=2 interval is [7,8], x=7.7\n",
    "#at n=3 interval is [9,9.75], x=9.5\n",
    "#at n=4 interval is [13.75,15.3], x=15.1\n",
    "#at n=5 interval is [19,19.75], x=19.1\n"
   ]
  },
  {
   "cell_type": "code",
   "execution_count": 73,
   "metadata": {},
   "outputs": [
    {
     "name": "stdout",
     "output_type": "stream",
     "text": [
      "The root is found at x=2.8508365383121337 eV in 25 iteration(s)\n",
      "The root is found at x=3.3832281565641664 eV in 21 iteration(s)\n",
      "The root is found at x=7.8493331374847655 eV in 15 iteration(s)\n",
      "The root is found at x=9.40103450446307 eV in 319 iteration(s)\n",
      "The root is found at x=15.06966701613919 eV in 11 iteration(s)\n",
      "The root is found at x=19.133508356102784 eV in 16 iteration(s)\n",
      "[ 2.85083654  3.38322816  7.84933314  9.4010345  15.06966702 19.13350836] [ 25  21  15 319  11  16]\n"
     ]
    }
   ],
   "source": [
    "import numpy as np\n",
    "import matplotlib.pyplot as plt\n",
    "import math\n",
    "\n",
    "def f1 (E):\n",
    "    #w in m\n",
    "    w=10**(-9)\n",
    "    m=9.1094*(10**-31)\n",
    "    # h in J*s\n",
    "    h1=1.0545*(10**-34)\n",
    "    # h in eV*s\n",
    "    h2=6.5821*(10**-16)\n",
    "    x=(w*w*m*E)/(2*h1*h2)\n",
    "    f1=np.tan(np.sqrt(x))\n",
    "    return f1\n",
    "\n",
    "def f2 (E):\n",
    "    V=20\n",
    "    f2=np.sqrt((V-E)/E)\n",
    "    return f2\n",
    "\n",
    "def f3 (E):\n",
    "    V=20\n",
    "    f3=-np.sqrt(E/(V-E))\n",
    "    return f3\n",
    "\n",
    "def even(E):\n",
    "    return f1(E)-f2(E)\n",
    "\n",
    "def odd(E):\n",
    "    return f1(E)-f3(E)\n",
    "\n",
    "def falspos(x,f,tol):\n",
    "    x1=x[0]\n",
    "    x2=x[1]\n",
    "    tol1=100\n",
    "    i=0\n",
    "    if (f(x1) * f(x2) >= 0): \n",
    "        print(\"You have not assumed right interval i.e. x1 and x2\") \n",
    "        return -1\n",
    "    while(tol1>tol):\n",
    "        xr1 = x2-(f(x2)*(x2-x1))/(f(x2)-f(x1))\n",
    "        fxr1 = f(xr1)\n",
    "        if (fxr1==0):\n",
    "             return xr1, x1, x2\n",
    "        elif (f(x1)*f(xr1)<0):\n",
    "            tol1=np.abs(xr1-x1)\n",
    "            x2 = xr1\n",
    "        else:\n",
    "            tol1=np.abs(xr1-x2)\n",
    "            x1 = xr1\n",
    "        i=i+1\n",
    "    print(f'The root is found at x={xr1} eV in {i} iteration(s)')\n",
    "    return xr1, i\n",
    "\n",
    "x=[[2.4,3],[3.1,3.6],[7,8],[9,9.75],[13.75,15.3],[19,19.75]]\n",
    "\n",
    "def findroots(arr,maxiter):\n",
    "    root=np.empty(6,dtype=float)\n",
    "    Niter=np.empty(6,dtype=int)\n",
    "    i=0\n",
    "    while (i<maxiter):\n",
    "        if(i%2==0):\n",
    "            root[i],Niter[i] =falspos(x[i],even,0.001)\n",
    "        else:\n",
    "            root[i], Niter[i]=falspos(x[i],odd,0.001)\n",
    "        i=i+1\n",
    "    return root, Niter\n",
    " \n",
    "root1=np.empty(6,dtype=float)\n",
    "Niter1=np.empty(6,dtype=int)    \n",
    "root1,Niter1=findroots(x,6)\n",
    "#print(root1,Niter1)\n",
    "\n"
   ]
  },
  {
   "cell_type": "code",
   "execution_count": 68,
   "metadata": {},
   "outputs": [
    {
     "name": "stdout",
     "output_type": "stream",
     "text": [
      "The root is found at x=2.8508365383121337 eV in 25 iteration(s)\n",
      "The root is found at x=3.3832281565641664 eV in 21 iteration(s)\n",
      "The root is found at x=7.8493331374847655 eV in 15 iteration(s)\n",
      "The root is found at x=9.40103450446307 eV in 319 iteration(s)\n",
      "The root is found at x=15.06966701613919 eV in 11 iteration(s)\n",
      "The root is found at x=19.133508356102784 eV in 16 iteration(s)\n",
      "\u001b[1m\n",
      " Table 1: Energy at different quantum state\n",
      "\n",
      " n       En (eV)         Niter       [El,Er]    \u001b[0m\n",
      " 0     2.850836538         25       [2.4, 3.0]\n",
      " 1     3.383228157         21       [3.1, 3.6]\n",
      " 2     7.849333137         15       [7.0, 8.0]\n",
      " 3     9.401034504        319       [9.0, 9.75]\n",
      " 4    15.069667016         11       [13.75, 15.3]\n",
      " 5    19.133508356         16       [19.0, 19.75]\n"
     ]
    }
   ],
   "source": [
    "x=[[2.4,3.0],[3.1,3.6],[7.0,8.0],[9.0,9.75],[13.75,15.3],[19.0,19.75],float]\n",
    "root1=np.empty(6,dtype=float)\n",
    "Niter1=np.empty(6,dtype=int)    \n",
    "root1,Niter1=findroots(x,6)\n",
    "  \n",
    "print('\\033[1m'+'\\n Table 1: Energy at different quantum state')\n",
    "print('\\n {:7} {:15} {:11} {:10} \\033[0m'.format('n','En (eV)','Niter','[El,Er]'))\n",
    "i=0\n",
    "while i<6:\n",
    "    print(f'{i:2} {root1[i]:15.9f} {Niter1[i]:10}       {x[i]}')\n",
    "    i=i+1 "
   ]
  },
  {
   "cell_type": "code",
   "execution_count": null,
   "metadata": {},
   "outputs": [],
   "source": []
  },
  {
   "cell_type": "code",
   "execution_count": null,
   "metadata": {},
   "outputs": [],
   "source": []
  }
 ],
 "metadata": {
  "kernelspec": {
   "display_name": "Python 3",
   "language": "python",
   "name": "python3"
  },
  "language_info": {
   "codemirror_mode": {
    "name": "ipython",
    "version": 3
   },
   "file_extension": ".py",
   "mimetype": "text/x-python",
   "name": "python",
   "nbconvert_exporter": "python",
   "pygments_lexer": "ipython3",
   "version": "3.7.4"
  }
 },
 "nbformat": 4,
 "nbformat_minor": 2
}
