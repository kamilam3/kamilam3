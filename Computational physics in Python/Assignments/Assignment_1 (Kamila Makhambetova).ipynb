{
 "cells": [
  {
   "cell_type": "markdown",
   "metadata": {},
   "source": [
    "# Assignment 1\n",
    "Authors: Kamila Makhambetova"
   ]
  },
  {
   "cell_type": "markdown",
   "metadata": {},
   "source": [
    "# Problem 1"
   ]
  },
  {
   "cell_type": "markdown",
   "metadata": {},
   "source": [
    "### 1.1 "
   ]
  },
  {
   "cell_type": "markdown",
   "metadata": {},
   "source": [
    "Let the mass of a satellite be m, of the Earth M and the radius of the Earth be R. \n",
    "\n",
    "Knowing the formula for centripetal acceleration \n",
    "$$\\begin{eqnarray}\n",
    "\\ a = \\frac{v^2}{r} \\\\\n",
    "\\end{eqnarray}$$ \n",
    "\n",
    "and Newton's second law \n",
    "$$\\begin{eqnarray}\n",
    "\\ F = ma \\\\ \n",
    "\\end{eqnarray}$$\n",
    "we obtain the centripetal force\n",
    "$$\\begin{eqnarray}\n",
    "\\ F_c = \\frac{mv^2}{r} \\\\\n",
    "\\end{eqnarray}$$\n",
    "formula for gravitational force\n",
    "$$\\begin{eqnarray}\n",
    "\\ F_G = G\\frac{mM}{r^2}\n",
    "\\end{eqnarray} $$\n",
    "\n",
    "\n",
    "equating centripetal and gravitational forces     \n",
    "$$\\begin{eqnarray}\n",
    "\\ F_G = G\\frac{mM}{r^2} \\\\\n",
    "\\ \\frac{mv^2}{r} = G\\frac{mM}{r^2} \\\\\n",
    "\\ v^2 = \\frac{GM}{r} \\\\ \n",
    "\\end{eqnarray} $$\n",
    "deriving the velocity\n",
    "$$\\begin{eqnarray}\n",
    "\\ v = \\frac{d}{t} = \\frac{2\\pi r}{T} \\\\ \n",
    "\\end{eqnarray} $$\n",
    "\n",
    "we obtain the distance from the center of the mass to the satellite\n",
    "$$\\begin{eqnarray}\n",
    "\\ \\frac{4\\pi^2r^2}{T^2} = \\frac{GM}{r} \\\\\n",
    "\\ 4\\pi^2r^3 = GMT^2 \\\\\n",
    "\\ r^3 = \\frac{GMT^2}{4\\pi^2} \\\\\n",
    "\\ r = (\\frac{GMT^2}{4\\pi^2})^{1/3} \\\\\n",
    "\\end{eqnarray}$$\n",
    "\n",
    "knowing the formula for the distance from the center of the mass to the satellite, the altitude of a satellite is derived\n",
    "\n",
    "$$\\begin{eqnarray}\n",
    "\\ r = R + h \\\\ \n",
    "\\ h = r - R \\\\\n",
    "\\ h = (\\frac{GMT^2}{4\\pi^2})^{1/3} - R\n",
    "\\end{eqnarray}$$"
   ]
  },
  {
   "cell_type": "markdown",
   "metadata": {},
   "source": [
    "### 1.2"
   ]
  },
  {
   "cell_type": "code",
   "execution_count": 65,
   "metadata": {},
   "outputs": [
    {
     "name": "stdout",
     "output_type": "stream",
     "text": [
      "Enter the value for the period of a satellite in seconds 55555\n",
      "The altitude of a satellite in meters is 25086840.834708784\n"
     ]
    }
   ],
   "source": [
    "import math\n",
    "\n",
    "T = float(input(\"Enter the value for the period of a satellite in seconds \"))\n",
    "G = 6.67*(10**(-11))\n",
    "M = 5.97*(10**(24))\n",
    "R = 6371*(10**3)\n",
    "def altit_h(T):\n",
    "    if (T<0):\n",
    "        print('The error message: the period of a satelite should be non-negative i.e. T=>0')\n",
    "    else:\n",
    "        h = ((G*M*(T**2))/(4*(math.pi**2)))**(1/3)- R\n",
    "        return print(f'The altitude of a satellite in meters is {h}')\n",
    "altit_h(T)"
   ]
  },
  {
   "cell_type": "markdown",
   "metadata": {},
   "source": [
    "### 1.3"
   ]
  },
  {
   "cell_type": "code",
   "execution_count": 66,
   "metadata": {},
   "outputs": [
    {
     "name": "stdout",
     "output_type": "stream",
     "text": [
      "The altitude of a satellite in meters is 35855910.17617497\n",
      "The altitude of a satellite in meters is 279321.62537285965\n",
      "The altitude of a satellite in meters is -2181559.8978108233\n"
     ]
    }
   ],
   "source": [
    "import math\n",
    "\n",
    "G = 6.67*(10**(-11))\n",
    "M = 5.97*(10**(24))\n",
    "R = 6371*(10**3)\n",
    "\n",
    "def altit_h(T):\n",
    "    h = ((G*M*(T**2))/(4*(math.pi**2)))**(1/3)- R\n",
    "    return print(f'The altitude of a satellite in meters is {h}')\n",
    "\n",
    "altit_h(24*60*60)\n",
    "altit_h(90*60)\n",
    "altit_h(45*60)\n"
   ]
  },
  {
   "cell_type": "markdown",
   "metadata": {},
   "source": [
    "The altitude of a satellite that orbits once a day is 35855.91 km, once 90 min is 279.322 km. No altitude for the satellite that orbits the Earth every 45 min. \n",
    "It can be concluded that 90 min is the minimum time for the satellite to orbit the Earth"
   ]
  },
  {
   "cell_type": "markdown",
   "metadata": {},
   "source": [
    "### 1.4"
   ]
  },
  {
   "cell_type": "code",
   "execution_count": 67,
   "metadata": {},
   "outputs": [
    {
     "name": "stdout",
     "output_type": "stream",
     "text": [
      "The difference of altitude of a satellite between sideral and usual day in meters  is 82147.8462793231\n"
     ]
    }
   ],
   "source": [
    "import math\n",
    "\n",
    "G = 6.67*(10**(-11))\n",
    "M = 5.97*(10**(24))\n",
    "R = 6371*(10**3)\n",
    "\n",
    "def altit_h(T):\n",
    "    h = ((G*M*(T**2))/(4*(math.pi**2)))**(1/3)- R\n",
    "    return h\n",
    "\n",
    "altit_h(24*60*60)\n",
    "altit_h(23.93*60*60)\n",
    "dif=altit_h(24*60*60)-altit_h(23.93*60*60)\n",
    "\n",
    "print(f'The difference of altitude of a satellite between sideral and usual day in meters  is {dif}')\n"
   ]
  },
  {
   "cell_type": "markdown",
   "metadata": {},
   "source": [
    "Geosynchronous satellite has the same orbital period as the period of the Earth's rotation around its axis. That means it is equal to 23 hours 56 minutes and 4.1 seconds. \n",
    "Using the code above, we calculated the altitudes. The altitude of a satellite with a period of 24 hours is equal to 35855.910 km, whereas the period of 23.93 hours is equal to 35773.762 km. So there is a difference of 82.148 km between the altitudes."
   ]
  },
  {
   "cell_type": "markdown",
   "metadata": {},
   "source": [
    "# Problem 2"
   ]
  },
  {
   "cell_type": "markdown",
   "metadata": {},
   "source": [
    "### 2.1"
   ]
  },
  {
   "cell_type": "code",
   "execution_count": 68,
   "metadata": {},
   "outputs": [
    {
     "name": "stdout",
     "output_type": "stream",
     "text": [
      "Enter n: 4\n",
      "Enter the size of the array 2\n",
      "Enter the element of the array: 2\n",
      "Enter the element of the array: 2\n",
      "[2 2]\n",
      "the multinoimial coefficient for n=4 and [2 2] equals 6.0\n"
     ]
    }
   ],
   "source": [
    "import math\n",
    "from numpy import ndarray\n",
    "\n",
    "def multincoef(n,thelist):\n",
    "    m=0\n",
    "    k=1\n",
    "    while m<len(thelist):\n",
    "        k=k*math.factorial(thelist[m])\n",
    "        m=m+1\n",
    "    return print(f'the multinoimial coefficient for n={n} and {thelist} equals {math.factorial(n)/k}') \n",
    "\n",
    "n=int(input(\"Enter n: \"))\n",
    "s=int(input(\"Enter the size of the array \"))\n",
    "arr= ndarray((s,),int)\n",
    "\n",
    "m=0\n",
    "while m<s:\n",
    "    arr[m]=int(input(\"Enter the element of the array: \"))\n",
    "    m=m+1\n",
    "\n",
    "print(arr)\n",
    "multincoef(n,arr)"
   ]
  },
  {
   "cell_type": "markdown",
   "metadata": {},
   "source": [
    "### 2.2"
   ]
  },
  {
   "cell_type": "code",
   "execution_count": 69,
   "metadata": {},
   "outputs": [
    {
     "name": "stdout",
     "output_type": "stream",
     "text": [
      "the multinoimial coefficient for n=8 and [4, 2, 2, 0] equals 420.0\n",
      "the multinoimial coefficient for n=9 and [3, 3, 0, 1, 1] equals 10080.0\n",
      "the multinoimial coefficient for n=9 and [3, 3, 1, 1, 1] equals 10080.0\n",
      "the multinoimial coefficient for n=12 and [2, 3, 2, 4, 1, 0] equals 831600.0\n"
     ]
    }
   ],
   "source": [
    "import math\n",
    "\n",
    "def multincoef(n,thelist):\n",
    "    m=0\n",
    "    k=1\n",
    "    while m<len(thelist):\n",
    "        k=k*math.factorial(thelist[m])\n",
    "        m=m+1\n",
    "    return print(f'the multinoimial coefficient for n={n} and {thelist} equals {math.factorial(n)/k}') \n",
    "\n",
    "multincoef(8,[4,2,2,0])\n",
    "multincoef(9,[3,3,0,1,1]) # written in the task, but should n3=1?\n",
    "multincoef(9,[3,3,1,1,1]) # my corrected version\n",
    "multincoef(12,[2,3,2,4,1,0])"
   ]
  },
  {
   "cell_type": "markdown",
   "metadata": {},
   "source": [
    "### 2.3"
   ]
  },
  {
   "cell_type": "code",
   "execution_count": 70,
   "metadata": {},
   "outputs": [
    {
     "name": "stdout",
     "output_type": "stream",
     "text": [
      "the multinoimial coefficient=1.0 for n=6 and n1=0, n2=6\n",
      "the multinoimial coefficient=6.0 for n=6 and n1=1, n2=5\n",
      "the multinoimial coefficient=15.0 for n=6 and n1=2, n2=4\n",
      "the multinoimial coefficient=20.0 for n=6 and n1=3, n2=3\n",
      "the multinoimial coefficient=15.0 for n=6 and n1=4, n2=2\n",
      "the multinoimial coefficient=6.0 for n=6 and n1=5, n2=1\n",
      "the multinoimial coefficient=1.0 for n=6 and n1=6, n2=0\n",
      "the multinoimial coefficient=5.0 for n=5 and n1=0, n2=1, n3=4\n",
      "the multinoimial coefficient=5.0 for n=5 and n1=0, n2=4, n3=1\n",
      "the multinoimial coefficient=5.0 for n=5 and n1=1, n2=0, n3=4\n",
      "the multinoimial coefficient=5.0 for n=5 and n1=1, n2=4, n3=0\n",
      "the multinoimial coefficient=5.0 for n=5 and n1=4, n2=0, n3=1\n",
      "the multinoimial coefficient=20.0 for n=5 and n1=1, n2=1, n3=3\n",
      "the multinoimial coefficient=20.0 for n=5 and n1=1, n2=3, n3=1\n",
      "the multinoimial coefficient=20.0 for n=5 and n1=3, n2=1, n3=1\n",
      "the multinoimial coefficient=30.0 for n=5 and n1=1, n2=2, n3=2\n",
      "the multinoimial coefficient=30.0 for n=5 and n1=2, n2=1, n3=2\n",
      "the multinoimial coefficient=30.0 for n=5 and n1=2, n2=2, n3=1\n",
      "the multinoimial coefficient=10.0 for n=5 and n1=2, n2=3, n3=0\n",
      "the multinoimial coefficient=10.0 for n=5 and n1=2, n2=0, n3=3\n",
      "the multinoimial coefficient=10.0 for n=5 and n1=0, n2=2, n3=3\n",
      "the multinoimial coefficient=10.0 for n=5 and n1=0, n2=3, n3=2\n",
      "the multinoimial coefficient=10.0 for n=5 and n1=3, n2=0, n3=2\n",
      "the multinoimial coefficient=10.0 for n=5 and n1=3, n2=2, n3=0\n",
      "the multinoimial coefficient=1.0 for n=5 and n1=0, n2=0, n3=5\n",
      "the multinoimial coefficient=1.0 for n=5 and n1=0, n2=5, n3=0\n",
      "the multinoimial coefficient=1.0 for n=5 and n1=5, n2=0, n3=0\n"
     ]
    }
   ],
   "source": [
    "import math\n",
    "\n",
    "def multincoef(n,thelist):\n",
    "    m=0\n",
    "    k=1\n",
    "    while m<len(thelist):\n",
    "            k=k*math.factorial(thelist[m])\n",
    "            m=m+1\n",
    "    if (len(thelist)==2):\n",
    "        return print(f'the multinoimial coefficient={math.factorial(n)/k} for n={n} and n1={thelist[0]}, n2={thelist[1]}') \n",
    "    else: \n",
    "        return print(f'the multinoimial coefficient={math.factorial(n)/k} for n={n} and n1={thelist[0]}, n2={thelist[1]}, n3={thelist[2]}') \n",
    "\n",
    "multincoef(6,[0,6])\n",
    "multincoef(6,[1,5])\n",
    "multincoef(6,[2,4])\n",
    "multincoef(6,[3,3])\n",
    "multincoef(6,[4,2])\n",
    "multincoef(6,[5,1])\n",
    "multincoef(6,[6,0])\n",
    "multincoef(5,[0,1,4]) \n",
    "multincoef(5,[0,4,1]) \n",
    "multincoef(5,[1,0,4]) \n",
    "multincoef(5,[1,4,0]) \n",
    "multincoef(5,[4,0,1]) \n",
    "multincoef(5,[1,1,3])\n",
    "multincoef(5,[1,3,1]) \n",
    "multincoef(5,[3,1,1])\n",
    "multincoef(5,[1,2,2])\n",
    "multincoef(5,[2,1,2]) \n",
    "multincoef(5,[2,2,1]) \n",
    "multincoef(5,[2,3,0]) \n",
    "multincoef(5,[2,0,3]) \n",
    "multincoef(5,[0,2,3]) \n",
    "multincoef(5,[0,3,2]) \n",
    "multincoef(5,[3,0,2]) \n",
    "multincoef(5,[3,2,0]) \n",
    "multincoef(5,[0,0,5]) \n",
    "multincoef(5,[0,5,0])\n",
    "multincoef(5,[5,0,0]) "
   ]
  },
  {
   "cell_type": "markdown",
   "metadata": {},
   "source": [
    "# Problem 3"
   ]
  },
  {
   "cell_type": "code",
   "execution_count": 71,
   "metadata": {},
   "outputs": [
    {
     "name": "stdout",
     "output_type": "stream",
     "text": [
      "What C_k you want to find? Enter k: 7\n",
      "C7 = 429.0\n",
      "C19 = 1767263190.0\n",
      "C99 = 2.275088307942292e+56\n"
     ]
    }
   ],
   "source": [
    "import numpy as np\n",
    "from numpy import ndarray\n",
    "\n",
    "c= np.empty([100], dtype=float)\n",
    "c[0]=1\n",
    "a=int(input(\"What C_k you want to find? Enter k: \"))\n",
    "\n",
    "def catal(n):\n",
    "    i=0\n",
    "    if(n<0):\n",
    "        print('The error message: k should be non-negative i.e. k=>0')\n",
    "    elif(n==0):\n",
    "        return print(f'C{n}={c[0]}')\n",
    "    else:\n",
    "        while i<n:\n",
    "             c[i+1]=(4*i+2)*(c[i])/(i+2) \n",
    "             c[i]=c[i+1]\n",
    "             i=i+1\n",
    "        return  print(f'C{n} = {c[n-1]}') \n",
    "\n",
    "catal(7)\n",
    "catal(19)\n",
    "catal(99)"
   ]
  }
 ],
 "metadata": {
  "kernelspec": {
   "display_name": "Python 3",
   "language": "python",
   "name": "python3"
  },
  "language_info": {
   "codemirror_mode": {
    "name": "ipython",
    "version": 3
   },
   "file_extension": ".py",
   "mimetype": "text/x-python",
   "name": "python",
   "nbconvert_exporter": "python",
   "pygments_lexer": "ipython3",
   "version": "3.7.4"
  }
 },
 "nbformat": 4,
 "nbformat_minor": 2
}
