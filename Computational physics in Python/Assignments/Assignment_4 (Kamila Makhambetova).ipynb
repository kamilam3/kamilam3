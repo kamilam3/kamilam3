{
 "cells": [
  {
   "cell_type": "markdown",
   "metadata": {},
   "source": [
    "# Assignment 4"
   ]
  },
  {
   "cell_type": "markdown",
   "metadata": {},
   "source": [
    "Authors: Kamila Makhambetova"
   ]
  },
  {
   "cell_type": "markdown",
   "metadata": {},
   "source": [
    "## Problem 1"
   ]
  },
  {
   "cell_type": "markdown",
   "metadata": {},
   "source": [
    "### 1.1"
   ]
  },
  {
   "cell_type": "code",
   "execution_count": 1,
   "metadata": {},
   "outputs": [
    {
     "name": "stdout",
     "output_type": "stream",
     "text": [
      "approximate Vj for 10 iterations: \n",
      " [3.63037551 3.33649669 2.63941992 2.16069752 1.49926332 1.21998694]\n",
      "\n",
      " approximate b: \n",
      " [ 4.91520991  4.91549383 -0.06915335 -0.05237681 -0.02305112  0.        ]\n",
      "\n",
      " given b: \n",
      " [5. 5. 0. 0. 0. 0.]\n",
      "\u001b[1m\n",
      " Table 1: Jacobian method for x0=[0,0,0,0,0,0].\n",
      "\n",
      " iteration                           Vj           \u001b[0m\n",
      "     1       [1.66666667 1.25       0.         0.         0.         0.        ]\n",
      "     2       [2.08333333 1.77083333 0.96354167 0.68359375 0.41178385 0.36512587]\n",
      "     3       [2.578125   2.3063151  1.49495443 1.14454481 0.75115628 0.63190036]\n",
      "     4       [2.93375651 2.64331394 1.86819288 1.47364087 0.99343353 0.82235813]\n",
      "     5       [3.17050227 2.87808401 2.12891517 1.70569771 1.16424275 0.95664682]\n",
      "     6       [3.33566639 3.04256982 2.31204417 1.86887589 1.28439172 1.0510892 ]\n",
      "     7       [3.45153799 3.15811451 2.44073003 1.98358137 1.36885015 1.11747717]\n",
      "     8       [3.53294818 3.23931489 2.53117365 2.06420397 1.4282137  1.16413922]\n",
      "     9       [3.59016285 3.29638512 2.59474141 2.12086986 1.46993762 1.19693583]\n",
      "    10       [3.63037551 3.33649669 2.63941992 2.16069752 1.49926332 1.21998694]\n"
     ]
    }
   ],
   "source": [
    "import numpy as np\n",
    "\n",
    "A = np.array([\\\n",
    "              [3,-1,-1,0,0,0],\\\n",
    "              [-1,4,-1,-1,0,0],\\\n",
    "              [-1,-1,4,-1,-1,0],\\\n",
    "              [0,-1,-1,4,-1,-1],\\\n",
    "              [0,0,-1,-1,4,-1],\\\n",
    "              [0,0,0,-1,-1,3]],float)\n",
    "\n",
    "b = np.array([5,5,0,0,0,0],float)\n",
    "\n",
    "\n",
    "def summat(A,x,i):\n",
    "    n,m=np.shape(A)\n",
    "    Z=np.zeros(np.shape(A))\n",
    "    summ=0\n",
    "    \n",
    "    for j in range(0,n):\n",
    "        if(i==j):\n",
    "            continue\n",
    "        else:\n",
    "            summ=summ+A[i,j]*x[j]\n",
    "    return summ\n",
    "\n",
    "def jacobi(A,b,x,maxiter):\n",
    "    x1=x\n",
    "    Z=np.zeros(np.shape(A))\n",
    "    x2=Z[:,0]\n",
    "    n=len(np.diag(A))\n",
    "    \n",
    "    for m in range(0,maxiter):\n",
    "        for i in range(0,n):\n",
    "            x2[i]=(b[i]-summat(A,x1,i))/A[i,i]\n",
    "        x1=x2\n",
    "    return x2\n",
    "\n",
    "x = np.array([0,0,0,0,0,0],float)\n",
    "\n",
    "maxit=10\n",
    "i=0\n",
    "\n",
    "ans=jacobi(A,b,x,maxit)\n",
    "print(f'approximate Vj for {maxit} iterations: \\n {ans}')\n",
    "\n",
    "b2=np.matmul(A,ans)\n",
    "print(f'\\n approximate b: \\n {b2}')\n",
    "print(f'\\n given b: \\n {b}')\n",
    "\n",
    "print('\\033[1m'+'\\n Table 1: Jacobian method for x0=[0,0,0,0,0,0].')\n",
    "print('\\n {:35} {:12} \\033[0m'.format('iteration','Vj'))\n",
    "while i<maxit:\n",
    "            print(f'{i+1:6}       {jacobi(A,b,x,i+1)}')\n",
    "            i=i+1 \n",
    "      "
   ]
  },
  {
   "cell_type": "markdown",
   "metadata": {},
   "source": [
    "### 1.2"
   ]
  },
  {
   "cell_type": "code",
   "execution_count": 2,
   "metadata": {},
   "outputs": [
    {
     "name": "stdout",
     "output_type": "stream",
     "text": [
      "10 iterations\n",
      "V_gs = [3.65537747 3.36143587 2.66719859 2.1854602  1.51749645 1.23431888]\n"
     ]
    },
    {
     "name": "stderr",
     "output_type": "stream",
     "text": [
      "/Users/kamila/opt/anaconda3/lib/python3.7/site-packages/ipykernel_launcher.py:30: RuntimeWarning: divide by zero encountered in double_scalars\n"
     ]
    }
   ],
   "source": [
    "import numpy as np\n",
    "A = np.array([\\\n",
    "             [3,-1,-1,0,0,0],\\\n",
    "             [-1,4,-1,-1,0,0],\\\n",
    "             [-1,-1,4,-1,-1,0],\\\n",
    "             [0,-1,-1,4,-1,-1],\\\n",
    "             [0,0,-1,-1,4,-1],\\\n",
    "             [0,0,0,-1,-1,3]], float)\n",
    "b = np.array([5,5,0,0,0,0], float)\n",
    "\n",
    "def gauss_seidel(A,b,v0,tol,imax):\n",
    "    n=len(A)\n",
    "    v = v0.copy()\n",
    "    for i in range(imax):\n",
    "        for c in range(n):\n",
    "            v[c] = v0[c]\n",
    "        for j in range(n):\n",
    "            summ = 0\n",
    "            for k in range(n):\n",
    "                if k != j:\n",
    "                    summ = summ + A[j][k]*v0[k]\n",
    "            v0[j] = (b[j]-summ)/A[j][j]\n",
    "        norm1 = 0\n",
    "        norm2 = 0\n",
    "        for j in range(n):\n",
    "            norm1 += abs(v0[j] - v[j])\n",
    "            norm2 += abs(v[j])\n",
    "            if v[j] == 0:\n",
    "                v[j] = 1\n",
    "        norm = norm1/norm2\n",
    "        if (norm<tol) and i != 0:\n",
    "            print(f'{i+1} iterations')\n",
    "            return v0\n",
    "    \n",
    "v0=np.zeros(6)\n",
    "gauss_seidel(A,b,v0,0.015,10)\n",
    "print(f'V_gs = {v0}')"
   ]
  },
  {
   "cell_type": "markdown",
   "metadata": {},
   "source": [
    "### 1.3"
   ]
  },
  {
   "cell_type": "code",
   "execution_count": 3,
   "metadata": {},
   "outputs": [
    {
     "name": "stdout",
     "output_type": "stream",
     "text": [
      "True solution =  [3.7254902  3.43137255 2.74509804 2.25490196 1.56862745 1.2745098 ]\n",
      "\n",
      " V_j = [3.63037551 3.33649669 2.63941992 2.16069752 1.49926332 1.21998694]\n",
      "\n",
      " Table 1: Jacobian relative error \n",
      " x[i]     Jacobian relative error %\n",
      " x0       2.5530784951054617\n",
      " x1       2.7649535138980252\n",
      " x2       3.849702902829627\n",
      " x3       4.177762355672845\n",
      " x4       4.421963623414546\n",
      " x5       4.277947491156631\n",
      "10 iterations\n",
      "\n",
      " Vgs =  [3.65537747 3.36143587 2.66719859 2.1854602  1.51749645 1.23431888]\n",
      "\n",
      " Table 2: Gauss-Seidel relative error\n",
      " x[i]    Gauss-Seidel relative error %\n",
      " x0       1.881973135442747\n",
      " x1       2.0381546439105946\n",
      " x2       2.8377656602366295\n",
      " x3       3.0795911185367655\n",
      " x4       3.259601379696468\n",
      " x5       3.1534414820894816\n"
     ]
    },
    {
     "name": "stderr",
     "output_type": "stream",
     "text": [
      "/Users/kamila/opt/anaconda3/lib/python3.7/site-packages/ipykernel_launcher.py:30: RuntimeWarning: divide by zero encountered in double_scalars\n"
     ]
    }
   ],
   "source": [
    "import numpy as np\n",
    "A = np.array([\\\n",
    "             [3,-1,-1,0,0,0],\\\n",
    "             [-1,4,-1,-1,0,0],\\\n",
    "             [-1,-1,4,-1,-1,0],\\\n",
    "             [0,-1,-1,4,-1,-1],\\\n",
    "             [0,0,-1,-1,4,-1],\\\n",
    "             [0,0,0,-1,-1,3]], float)\n",
    "b = np.array([5,5,0,0,0,0], float)\n",
    "c = np.linalg.solve(A,b)\n",
    "print('True solution = ',c)\n",
    "\n",
    "def err1(c):\n",
    "    maxit=10\n",
    "    i=0\n",
    "    Vj = jacobi(A,b,x,maxit)\n",
    "    print(f'\\n V_j = {Vj}')\n",
    "    print('\\n Table 1: Jacobian relative error ')\n",
    "    print(' x[i]     Jacobian relative error %')\n",
    "    err1 = np.zeros(6)\n",
    "    for i in range(6):\n",
    "        err1[i] = ((c[i]-Vj[i])/c[i])*100\n",
    "        print(f' x{i}       {err1[i]}')\n",
    "\n",
    "def err2(c):\n",
    "    v0=np.zeros(6)\n",
    "    tol=0.015\n",
    "    imax=10\n",
    "    Vgs = gauss_seidel(A,b,v0,tol,imax)\n",
    "    print('\\n Vgs = ',Vgs)\n",
    "    print('\\n Table 2: Gauss-Seidel relative error')\n",
    "    print(' x[i]    Gauss-Seidel relative error %')\n",
    "    err2 = np.zeros(6)\n",
    "    for i in range(6):\n",
    "        err2[i] = ((c[i]-Vgs[i])/c[i])*100\n",
    "        print(f' x{i}       {err2[i]}')\n",
    "        \n",
    "err1(c)\n",
    "err2(c)"
   ]
  },
  {
   "cell_type": "markdown",
   "metadata": {},
   "source": [
    "## Problem 2"
   ]
  },
  {
   "cell_type": "code",
   "execution_count": 4,
   "metadata": {},
   "outputs": [
    {
     "name": "stdout",
     "output_type": "stream",
     "text": [
      "i   sqrt(ith eigenvalue)      eigenvector\n",
      "1     26.43100812           [-0.58785405  0.73069726 -0.34714424]\n",
      "2     18.42492570           [-0.63435541 -0.3505515   0.68898973]\n",
      "3      7.54479443           [0.29129699 0.57250939 0.76640659]\n"
     ]
    }
   ],
   "source": [
    "import numpy as np\n",
    "A = np.array([\\\n",
    "              [450,-200,0],\\\n",
    "              [-240,420,-180],\\\n",
    "              [0,-225,225]], float)\n",
    "\n",
    "def mass_spring(A):\n",
    "    eigenvalue, eigenvector = np.linalg.eig(A)\n",
    "    print('{:3} {:25} {:}' \\\n",
    "          .format('i','sqrt(ith eigenvalue)','eigenvector'))\n",
    "    for i in range(1,4):\n",
    "        n=0\n",
    "        n = i-1\n",
    "        print(f'{i} {np.sqrt(eigenvalue[n]):15.8f}           {eigenvector[:,n]}')\n",
    "mass_spring(A)"
   ]
  },
  {
   "cell_type": "markdown",
   "metadata": {},
   "source": [
    "## Problem 3"
   ]
  },
  {
   "cell_type": "markdown",
   "metadata": {},
   "source": [
    "### 3.1"
   ]
  },
  {
   "cell_type": "code",
   "execution_count": 5,
   "metadata": {},
   "outputs": [],
   "source": [
    "import numpy as np\n",
    "        \n",
    "def summ(Q,A,i):\n",
    "    n,m=np.shape(A)\n",
    "    Z=np.zeros(np.shape(A))\n",
    "    summ=Z[:,0]\n",
    "    \n",
    "    for j in range (0,i):\n",
    "        summ=summ+np.dot(Q[:,j], A[:,i])*Q[:,j]\n",
    "    return summ\n",
    "\n",
    "def gramschm(A):\n",
    "    n,m=np.shape(A)\n",
    "    Q=np.zeros(np.shape(A))\n",
    "    R=np.zeros((m,m))\n",
    "    U=np.zeros(np.shape(A))\n",
    "    \n",
    "    for i in range (0,m):\n",
    "        if (i==0):\n",
    "            U[:,0]=A[:,0]\n",
    "            Q[:,0]=U[:,0]/np.linalg.norm(U[:,0])\n",
    "        else:\n",
    "            U[:,i]=A[:,i]-summ(Q,A,i)\n",
    "            Q[:,i]=U[:,i]/np.linalg.norm(U[:,i])\n",
    "            \n",
    "    for i in range (0,m):\n",
    "        if (i==0):\n",
    "            A[:,0]=Q[:,0]*np.linalg.norm(U[:,0])\n",
    "            U[:,0]=Q[:,0]*np.linalg.norm(U[:,0])\n",
    "        else:\n",
    "            A[:,i]=Q[:,i]*np.linalg.norm(U[:,i])+summ(Q,A,i)\n",
    "            U[:,i]=Q[:,i]*np.linalg.norm(U[:,i])\n",
    "            \n",
    "    for r in range (0,m):\n",
    "        for l in range (0,m):\n",
    "            if(r==l):\n",
    "                 R[r,r]=np.linalg.norm(U[:,r])\n",
    "            if(l>r):\n",
    "                R[r,l]=np.matmul(Q[:,r],A[:,l])\n",
    "    return Q,R\n",
    "      "
   ]
  },
  {
   "cell_type": "code",
   "execution_count": 109,
   "metadata": {},
   "outputs": [
    {
     "name": "stdout",
     "output_type": "stream",
     "text": [
      "\n",
      " the matrix Q \n",
      "\n",
      "[[-5.00000000e-01  5.00000000e-01  5.77350269e-01  0.00000000e+00]\n",
      " [ 1.00000000e-01  5.00000000e-01  0.00000000e+00  7.07106781e-01]\n",
      " [-3.00000000e-01 -5.00000000e-01  5.77350269e-01 -6.28036983e-17]\n",
      " [ 8.00000000e-01  0.00000000e+00  5.77350269e-01  0.00000000e+00]\n",
      " [ 1.00000000e-01  5.00000000e-01  0.00000000e+00 -7.07106781e-01]]\n",
      "\n",
      " the matrix R \n",
      "\n",
      "[[ 20.         -20.         -10.          10.        ]\n",
      " [  0.           6.          -8.          -6.        ]\n",
      " [  0.           0.          10.39230485  -5.19615242]\n",
      " [  0.           0.           0.           7.07106781]]\n",
      "\n",
      " Test: A=Q*R \n",
      "\n",
      "[[-10.  13.   7. -11.]\n",
      " [  2.   1.  -5.   3.]\n",
      " [ -6.   3.  13.  -3.]\n",
      " [ 16. -16.  -2.   5.]\n",
      " [  2.   1.  -5.  -7.]]\n"
     ]
    }
   ],
   "source": [
    "import numpy as np\n",
    "\n",
    "A = np.array([\\\n",
    "              [-10,13,7,-11],\\\n",
    "              [2,1,-5,3],\\\n",
    "              [-6,3,13,-3],\\\n",
    "              [16,-16,-2,5],\\\n",
    "              [2,1,-5,-7]],float)\n",
    "\n",
    "K,M=gramschm(A)  \n",
    "\n",
    "print(f'\\n the matrix Q \\n')\n",
    "print(K)\n",
    "\n",
    "print(f'\\n the matrix R \\n')\n",
    "print(M)\n",
    "\n",
    "T=np.matmul(K,M)\n",
    "print(f'\\n Test: A=Q*R \\n')\n",
    "print(T)\n"
   ]
  }
 ],
 "metadata": {
  "kernelspec": {
   "display_name": "Python 3",
   "language": "python",
   "name": "python3"
  },
  "language_info": {
   "codemirror_mode": {
    "name": "ipython",
    "version": 3
   },
   "file_extension": ".py",
   "mimetype": "text/x-python",
   "name": "python",
   "nbconvert_exporter": "python",
   "pygments_lexer": "ipython3",
   "version": "3.7.4"
  }
 },
 "nbformat": 4,
 "nbformat_minor": 2
}
