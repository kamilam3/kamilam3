{
 "cells": [
  {
   "cell_type": "markdown",
   "metadata": {},
   "source": [
    "# Assignment 5\n",
    "Author: Kamila Makhambetova"
   ]
  },
  {
   "cell_type": "markdown",
   "metadata": {},
   "source": [
    "# Problem 1\n",
    "\n"
   ]
  },
  {
   "cell_type": "code",
   "execution_count": 1,
   "metadata": {},
   "outputs": [
    {
     "data": {
      "image/png": "[encoded data removed]",
      "text/plain": [
       "<Figure size 432x288 with 1 Axes>"
      ]
     },
     "metadata": {
      "needs_background": "light"
     },
     "output_type": "display_data"
    }
   ],
   "source": [
    "import matplotlib.pyplot as plt\n",
    "%matplotlib inline\n",
    "import numpy as np\n",
    "\n",
    "x = np.arange(-5,16,0.1)\n",
    "f = 4/x*(1-x**2/(np.sinh(x))**2)\n",
    "plt.ylim(-2,2)\n",
    "plt.xlabel(r'$x$', fontsize=14)\n",
    "plt.ylabel(r'$f(x)$', fontsize=14)\n",
    "plt.plot(x,f)\n",
    "plt.show()"
   ]
  },
  {
   "cell_type": "markdown",
   "metadata": {},
   "source": [
    "We draw graph for finding the interval in which maximum of the function occurs.\n",
    "We can see that maximum occurs on interval [0.1,5]"
   ]
  },
  {
   "cell_type": "markdown",
   "metadata": {},
   "source": [
    "## 1.1-1.5"
   ]
  },
  {
   "cell_type": "code",
   "execution_count": 3,
   "metadata": {},
   "outputs": [],
   "source": [
    "\n",
    "def parab_int(f,x0,x2,imax,tol):\n",
    "    x1 = (x0+x2)/2\n",
    "    x3_list=[]\n",
    "\n",
    "    if f(x1)<f(x0) and f(x1)<f(x2):\n",
    "        return '\\n Error message: the chosen interval does not contain maximum. Choose another interval'\n",
    "    \n",
    "    if f(x0)<f(x1) and f(x1)<f(x2):\n",
    "        return '\\n Error message: the chosen interval does not contain maximum. Choose another interval'\n",
    "    \n",
    "    if f(x0)>f(x1) and f(x1)>f(x2):\n",
    "        return '\\n Error message: the chosen interval does not contain maximum. Choose another interval'\n",
    "        \n",
    "    for i in range (0,imax):\n",
    "        f0=f(x0)\n",
    "        f1=f(x1)\n",
    "        f2=f(x2)\n",
    "        \n",
    "        fdif=(f1-f0)/(f2-f0)\n",
    "        x3=(fdif*(x2**2-x0**2)-(x1**2-x0**2))/(2*fdif*(x2-x0)-2*(x1-x0))\n",
    "        f3=f(x3)\n",
    "        x3_list.append(x3)\n",
    "        \n",
    "        #print(f'{i+1:2} x0={x0:.4f}, f(x0)={f0:.4f}, x1={x1:.4f}, f(x1)={f1:.4f}, x2={x2:.4f}, f(x2)={f2:.4f}, x3={x3:.4f}, f(x3)={f3:.4f}')\n",
    "        \n",
    "        if f3>f1:\n",
    "            x0=x1\n",
    "            x1=x3\n",
    "            x2=x2\n",
    "            \n",
    "        if f3<f1:\n",
    "            x0=x0\n",
    "            x1=x1\n",
    "            x2=x3\n",
    "        \n",
    "        if (i>0):\n",
    "            ea=abs(x3_list[i]-x3_list[i-1])\n",
    "            if ea<tol:\n",
    "                print(f'\\n {i+1} iterations completed')\n",
    "                return x3, f3\n",
    "                break\n",
    "        \n",
    "        if (i==imax-1):\n",
    "            print(f'max num of iterations = {imax} achieved.')\n",
    "            print(f'Rellative error condition was not achieved ')\n",
    "            print(f'For accurate answer increase max num of iterations ')\n",
    "            print(f'x,f(x)at {imax} iterations:')\n",
    "            return x3,f3\n"
   ]
  },
  {
   "cell_type": "markdown",
   "metadata": {},
   "source": [
    "## 1.6"
   ]
  },
  {
   "cell_type": "code",
   "execution_count": 4,
   "metadata": {},
   "outputs": [
    {
     "name": "stdout",
     "output_type": "stream",
     "text": [
      "\n",
      " 8 iterations completed\n",
      "the maximum of function at [0.1,5] is at x=1.9161150503232331 and f=1.3937375477786527 \n",
      "\n"
     ]
    }
   ],
   "source": [
    "from math import sinh\n",
    "\n",
    "def f(x):\n",
    "    return (4/x)*(1-x**2/((sinh(x))**2))\n",
    "\n",
    "#Based on graph of function maximum at interval [0.1,5]   \n",
    "x0=0.1\n",
    "x2=5\n",
    "tol=0.01\n",
    "maxit=30\n",
    "x3,f3=parab_int(f,x0,x2,maxit,tol)\n",
    "print(f'the maximum of function at [{x0},{x2}] is at x={x3} and f={f3} \\n')\n",
    "\n"
   ]
  },
  {
   "cell_type": "code",
   "execution_count": 5,
   "metadata": {},
   "outputs": [
    {
     "name": "stdout",
     "output_type": "stream",
     "text": [
      "max num of iterations = 6 achieved.\n",
      "Rellative error condition was not achieved \n",
      "For accurate answer increase max num of iterations \n",
      "x,f(x)at 6 iterations:\n",
      "the maximum of function at [0.1,5] is (1.937180886703581, 1.393574748251802)  \n",
      " \n",
      "the maximum of function at [-4,-0.01] is \n",
      " Error message: the chosen interval does not contain maximum. Choose another interval  \n",
      " \n",
      "the maximum of function at [0.3,1] is \n",
      " Error message: the chosen interval does not contain maximum. Choose another interval  \n",
      " \n"
     ]
    }
   ],
   "source": [
    "\n",
    "#Check conditions when numb of max iter is achieved\n",
    "maxit2=6\n",
    "print(f'the maximum of function at [{x0},{x2}] is {parab_int(f,x0,x2,maxit2,tol)}  \\n ')\n",
    "\n",
    "#Check intervals which doesn't contain maximum\n",
    "a=-4\n",
    "b=-0.01\n",
    "print(f'the maximum of function at [{a},{b}] is {parab_int(f,a,b,maxit,tol)}  \\n ')\n",
    "\n",
    "c=0.3\n",
    "d=1\n",
    "print(f'the maximum of function at [{c},{d}] is {parab_int(f,c,d,maxit,tol)}  \\n ')\n"
   ]
  },
  {
   "cell_type": "markdown",
   "metadata": {},
   "source": [
    "# Problem 2"
   ]
  },
  {
   "cell_type": "markdown",
   "metadata": {},
   "source": [
    "## (a)"
   ]
  },
  {
   "cell_type": "markdown",
   "metadata": {},
   "source": [
    "$\\begin{eqnarray}\n",
    "f(x,y) &=& 2xy^{2} + 13e^{xy}\\\\\\\\\n",
    "\\frac{\\partial f}{\\partial x} &=& 2y^{2} + 13ye^{xy}\\\\\n",
    "\\frac{\\partial f}{\\partial y} &=& 4xy + 13xe^{xy}\\\\\n",
    "\\nabla f(x,y) &=&\\begin{bmatrix}\n",
    "\\frac{\\partial f}{\\partial x}\\\\ \n",
    "\\frac{\\partial f}{\\partial y}\n",
    "\\end{bmatrix} =\\begin{bmatrix} 2y^{2} + 13ye^{xy}\\\\ 4xy + 13xe^{xy}\n",
    "\\end{bmatrix}\\\\\n",
    "\\end{eqnarray}$ \n",
    "\n",
    "$\\begin{eqnarray}\n",
    "\\ \\frac{\\partial^{2} f}{\\partial x^{2}} &=& 13y^{2}e^{xy}\\\\\n",
    "\\ \\frac{\\partial^{2} f}{\\partial y^{2}} &=& 4x + 13x^{2}e^{xy}\\\\\n",
    "\\ \\frac{\\partial^{2} f}{\\partial x \\partial y} &=& \n",
    "\\frac{\\partial^{2} f}{\\partial y \\partial x} = 4y+(13e^{xy}+13xye^{xy}) \\\\\n",
    "\\ H &=& \\begin{bmatrix}\n",
    "\\frac{\\partial^{2} f}{\\partial x^{2}} & \\frac{\\partial^{2} f}{\\partial x \\partial y} \\\\\n",
    "\\frac{\\partial^{2} f}{\\partial y \\partial x} & \\frac{\\partial^{2} f}{\\partial y^{2}}\n",
    "\\end{bmatrix} = \\begin{bmatrix}\n",
    "13y^{2}e^{xy} & 4y+(13e^{xy}+13xye^{xy}) \\\\\n",
    "4y+(13e^{xy}+13xye^{xy}) & 4x + 13x^{2}e^{xy}\n",
    "\\end{bmatrix}\n",
    "\\end{eqnarray}$\n",
    "\n",
    "\n"
   ]
  },
  {
   "cell_type": "markdown",
   "metadata": {},
   "source": [
    "## (b)"
   ]
  },
  {
   "cell_type": "markdown",
   "metadata": {},
   "source": [
    "$\\begin{eqnarray}\n",
    "f(x,y) &=& \\ln(x^{2} + 2xy + 3y^{2})\\\\\\\\\n",
    "\\frac{\\partial f}{\\partial x} &=& \\frac{2x+2y}{x^{2} + 2xy + 3y^{2}}\\\\\\\\\n",
    "\\frac{\\partial f}{\\partial y} &=& \\frac{2x+6y}{x^{2} + 2xy + 3y^{2}}\\\\\\\\\n",
    "\\nabla f(x,y) &=&\\begin{bmatrix}\n",
    "\\frac{\\partial f}{\\partial x}\\\\ \n",
    "\\frac{\\partial f}{\\partial y}\n",
    "\\end{bmatrix} =\\begin{bmatrix} \\frac{2x+2y}{x^{2} + 2xy + 3y^{2}}\\\\ \\frac{2x+6y}{x^{2} + 2xy + 3y^{2}}\n",
    "\\end{bmatrix}\n",
    "\\end{eqnarray}$\n",
    "\n",
    "$\\begin{eqnarray}\n",
    "\\ \\frac{\\partial^{2} f}{\\partial x^{2}} &=& \\frac{2y^{2}-4xy-2x^{2}}{(x^{2} + 2xy + 3y^{2})^{2}}\\\\\\\\\n",
    "\\ \\frac{\\partial^{2} f}{\\partial y^{2}} &=& \\frac{2x^{2}-12xy-18y^{2}}{(x^{2} + 2xy + 3y^{2})^{2}}\\\\\\\\\n",
    "\\ \\frac{\\partial^{2} f}{\\partial x \\partial y} &=& \n",
    "\\frac{\\partial^{2} f}{\\partial y \\partial x} = \\frac{-2x^{2}-12xy-6y^{2}}{(x^{2} + 2xy + 3y^{2})^{2}}) \\\\\\\\\n",
    "\\ H &=& \\begin{bmatrix}\n",
    "\\frac{\\partial^{2} f}{\\partial x^{2}} & \\frac{\\partial^{2} f}{\\partial x \\partial y} \\\\\n",
    "\\frac{\\partial^{2} f}{\\partial y \\partial x} & \\frac{\\partial^{2} f}{\\partial y^{2}}\n",
    "\\end{bmatrix} = \\begin{bmatrix}\n",
    "\\frac{2y^{2}-4xy-2x^{2}}{(x^{2} + 2xy + 3y^{2})^{2}} & \\frac{-2x^{2}-12xy-6y^{2}}{(x^{2} + 2xy + 3y^{2})^{2}} \\\\\n",
    "\\frac{-2x^{2}-12xy-6^y{2}}{(x^{2} + 2xy + 3y^{2})^{2}} & \\frac{2x^{2}-12xy-18y^{2}}{(x^{2} + 2xy + 3y^{2})^{2}}\n",
    "\\end{bmatrix}\n",
    "\\end{eqnarray}$\n"
   ]
  },
  {
   "cell_type": "markdown",
   "metadata": {},
   "source": [
    "# Problem 3"
   ]
  },
  {
   "cell_type": "markdown",
   "metadata": {},
   "source": [
    "## 3.1"
   ]
  },
  {
   "cell_type": "code",
   "execution_count": 6,
   "metadata": {},
   "outputs": [],
   "source": [
    "from math import log,ceil\n",
    "def goldensearch(f,a0,b0,tol):\n",
    "    a = a0\n",
    "    b = b0\n",
    "    d0 = b-a \n",
    "    R = (5.0**0.5-1.0)/2.0\n",
    "    imax = ceil(log(tol/d0)/log(R))\n",
    "    \n",
    "    d = R*d0 \n",
    "    x1 = a+d\n",
    "    x2 = b-d\n",
    "    f1 = f(x1)\n",
    "    f2 = f(x2)\n",
    "    \n",
    "    for i in range(2,imax+1):\n",
    "        d = R*d\n",
    "        if f1 > f2:\n",
    "            a = x2\n",
    "            #b=b\n",
    "            x2 = x1\n",
    "            x1 = a+d\n",
    "            f2 = f1\n",
    "            f1 = f(x1)\n",
    "        else:\n",
    "            #a=a\n",
    "            b = x1\n",
    "            x1 = x2\n",
    "            x2 = b-d\n",
    "            f1 = f2\n",
    "            f2 = f(x2)                       \n",
    "\n",
    "    if f1 > f2:\n",
    "        return x1,f1\n",
    "    else:\n",
    "        return x2,f"
   ]
  },
  {
   "cell_type": "code",
   "execution_count": 7,
   "metadata": {},
   "outputs": [
    {
     "name": "stdout",
     "output_type": "stream",
     "text": [
      "8 iterations are achieved\n",
      "xopt=0.7815296963627831, yopt=0.7810790027880679, fmax=0.8110788956943107\n"
     ]
    }
   ],
   "source": [
    "import numpy as np\n",
    "import math\n",
    "import matplotlib.pyplot as plt  \n",
    "def f(x,y):\n",
    "    return math.e**(-1*((x-1)**2)-1*((y-1)**2)-0.5*(x**3)*(y**3))\n",
    "\n",
    "def dfdx(x,y):\n",
    "    return (-2*(x-1)-1.5*(x**2)*(y**3))*f(x,y)\n",
    "\n",
    "def dfdy(x,y):\n",
    "    return (-2*(y-1)-1.5*(x**3)*(y**2))*f(x,y)\n",
    "\n",
    "\n",
    "def steepasc(x0,y0,tol,maxit):\n",
    "    ytol=1\n",
    "    xtol=1\n",
    "    \n",
    "    for i in range (0,maxit):\n",
    "        vx=dfdx(x0,y0)\n",
    "        vy=dfdy(x0,y0)\n",
    "        \n",
    "        def g(h):\n",
    "            return f(x0+h*vx,y0+h*vy)\n",
    "        \n",
    "        b0=10\n",
    "        hopt,fdopt=goldensearch(g,0,b0,tol)\n",
    "        x1=x0+hopt*dfdx(x0,y0)\n",
    "        y1=y0+hopt*dfdy(x0,y0)\n",
    "        xtol=abs(x1-x0)\n",
    "        ytol=abs(y1-y0)\n",
    "        x0=x1\n",
    "        y0=y1\n",
    "        \n",
    "        if (xtol<tol and ytol<tol):\n",
    "            print(f'{i+1} iterations are achieved')\n",
    "            return x1,y1,f(x1,y1)\n",
    "            break\n",
    "            \n",
    "        elif i==maxit-1:\n",
    "            print(f'max num of iterations={maxit} achieved')\n",
    "            print(f'x,y,f(x,y)at {maxit}=')\n",
    "            return x1,y1,f(x1,y1)\n",
    "    \n",
    "xopt,yopt,fmax=steepasc(0.5,-0.5,0.001,100)\n",
    "print(f'xopt={xopt}, yopt={yopt}, fmax={fmax}')\n",
    "\n",
    "    "
   ]
  },
  {
   "cell_type": "markdown",
   "metadata": {},
   "source": [
    "## 3.2 and 3.3"
   ]
  },
  {
   "cell_type": "code",
   "execution_count": 37,
   "metadata": {},
   "outputs": [
    {
     "data": {
      "image/png": "[encoded data removed]",
      "text/plain": [
       "<Figure size 432x288 with 1 Axes>"
      ]
     },
     "metadata": {
      "needs_background": "light"
     },
     "output_type": "display_data"
    }
   ],
   "source": [
    "import matplotlib.pyplot as plt\n",
    "%matplotlib inline\n",
    "\n",
    "x=np.arange(-0.5,2.6,0.1)\n",
    "y=np.arange(-0.5,2.6,0.1)\n",
    "np.random.seed(123)\n",
    "\n",
    "X, Y = np.meshgrid(x,y) \n",
    "S = f(X,Y) \n",
    "CS = plt.contour(X, Y, S,[0.2,0.4,0.7,0.8])\n",
    "#plt.clabel(CS,fontsize=5)\n",
    "plt.clabel(CS,inline=0.3,fmt='%1.1f',fontsize='9')\n",
    "\n",
    "plt.xlabel('$x$',size=13)\n",
    "plt.ylabel('$y$',size=13)\n",
    "plt.title('Graph: Contour of f(x,y)=e^-(x-1)^2-(y-1)^2-0.5x^3*y^3',size=13)\n",
    "\n",
    "#find point (xopt,yopt)\n",
    "plt.plot(xopt, yopt, 'ro',label='(x_opt,y_opt)')\n",
    "#plt.text(xopt,yopt,'(0.782,0.781)',size=7)\n",
    "plt.legend(loc='upper left',fontsize='12')\n",
    "plt.show()\n",
    "#plt.scatter([0,1,2,3,4],[0,1,4,9,16],c='r',s=55,label='Predicted')"
   ]
  },
  {
   "cell_type": "markdown",
   "metadata": {},
   "source": [
    "From the graph of contour we can see that red circle point which we found in 3.1 is lying inside of yellow circle. \n",
    "Conclusion: our estimated point is correct. At this point the maximum of the function occurs"
   ]
  }
 ],
 "metadata": {
  "kernelspec": {
   "display_name": "Python 3",
   "language": "python",
   "name": "python3"
  },
  "language_info": {
   "codemirror_mode": {
    "name": "ipython",
    "version": 3
   },
   "file_extension": ".py",
   "mimetype": "text/x-python",
   "name": "python",
   "nbconvert_exporter": "python",
   "pygments_lexer": "ipython3",
   "version": "3.7.4"
  }
 },
 "nbformat": 4,
 "nbformat_minor": 2
}
