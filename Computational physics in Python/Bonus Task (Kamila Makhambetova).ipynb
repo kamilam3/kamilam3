{
 "cells": [
  {
   "cell_type": "markdown",
   "metadata": {},
   "source": [
    "# Bonus task\n",
    "Author: Kamila Makhambetova"
   ]
  },
  {
   "cell_type": "code",
   "execution_count": 1,
   "metadata": {},
   "outputs": [
    {
     "name": "stdout",
     "output_type": "stream",
     "text": [
      "T(r=0.5) when S=1 is 1.1849053454285652\n",
      "T(r=0.5) when S=10 is 2.8490534542856527\n",
      "T(r=0.5) when S=20 is 4.698106908571305\n"
     ]
    }
   ],
   "source": [
    "import numpy as np\n",
    "def finitdifmeth(S,N,a,b):\n",
    "    dr=(b-a)/(N-1)\n",
    "    Nunknow=N-1\n",
    "    A=np.zeros((Nunknow,Nunknow))\n",
    "    b1=np.zeros(Nunknow)\n",
    "    \n",
    "    for i in range (0,Nunknow):\n",
    "        if (i==Nunknow-1):\n",
    "            b1[i]=(dr**2)*S+(1+1/(2*i))\n",
    "        else:\n",
    "            b1[i]=(dr**2)*S\n",
    "    \n",
    "    for j in range (0,Nunknow):\n",
    "        A[j,j]=2\n",
    "    \n",
    "    A[0,0]=-2\n",
    "    A[0,1]=2\n",
    "    \n",
    "    for l in range(1,Nunknow-1):\n",
    "        for k in range(2,Nunknow):\n",
    "            if(k==1+l):\n",
    "                A[l,k]=-1-1/(2*(l))\n",
    "                \n",
    "    for l in range(1,Nunknow):\n",
    "        for k in range(0,Nunknow-1):\n",
    "            if(k==l-1):\n",
    "                A[l,k]=-1+1/(2*(l))\n",
    "                \n",
    "    sol=np.linalg.solve(A, b1)\n",
    "    return sol\n",
    "\n",
    "S1=1\n",
    "S2=10\n",
    "S3=20\n",
    "N=11\n",
    "a=0\n",
    "b=1\n",
    "x1=finitdifmeth(S1,N,a,b)\n",
    "x2=finitdifmeth(S2,N,a,b)\n",
    "x3=finitdifmeth(S3,N,a,b)\n",
    "\n",
    "print(f'T(r=0.5) when S={S1} is {x1[5]}')\n",
    "print(f'T(r=0.5) when S={S2} is {x2[5]}')\n",
    "print(f'T(r=0.5) when S={S3} is {x3[5]}')"
   ]
  },
  {
   "cell_type": "code",
   "execution_count": null,
   "metadata": {},
   "outputs": [],
   "source": []
  }
 ],
 "metadata": {
  "kernelspec": {
   "display_name": "Python 3",
   "language": "python",
   "name": "python3"
  },
  "language_info": {
   "codemirror_mode": {
    "name": "ipython",
    "version": 3
   },
   "file_extension": ".py",
   "mimetype": "text/x-python",
   "name": "python",
   "nbconvert_exporter": "python",
   "pygments_lexer": "ipython3",
   "version": "3.7.4"
  }
 },
 "nbformat": 4,
 "nbformat_minor": 2
}
