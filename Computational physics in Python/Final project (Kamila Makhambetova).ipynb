{
 "cells": [
  {
   "cell_type": "markdown",
   "metadata": {},
   "source": [
    "# Final Project"
   ]
  },
  {
   "cell_type": "markdown",
   "metadata": {},
   "source": [
    "Author: Kamila Makhambetova"
   ]
  },
  {
   "cell_type": "markdown",
   "metadata": {},
   "source": [
    "## Problem 1"
   ]
  },
  {
   "cell_type": "markdown",
   "metadata": {},
   "source": [
    "### 1.1"
   ]
  },
  {
   "cell_type": "markdown",
   "metadata": {},
   "source": [
    "\\begin{equation}\n",
    "\\text { Equations of motion for the position (x,y) of the cannonball:}\n",
    "\\end{equation}\n",
    "\n",
    "\\begin{equation}\n",
    "\\ddot{x}=-\n",
    "\\frac{\\pi R^2 \\rho C}{2m} \n",
    "\\dot{x}\n",
    "\\sqrt{\\dot{x}^2+\\dot{y}^2}\n",
    "\\\\\n",
    "\\ddot{y}=-g-\n",
    "\\frac{\\pi R^2 \\rho C}{2m} \n",
    "\\dot{y}\n",
    "\\sqrt{\\dot{x}^2+\\dot{y}^2}\n",
    "\\end{equation}\n",
    "\n",
    "\\begin{equation}\n",
    "\\text { where R is sphere's radius, $\\rho$ -density of air, C-coefficient of drag, m-mass of cannonball, g-acceleration due to gravity,}\n",
    "\\\\\n",
    "\\text{$\\dot{x}$ , $\\ddot{x}$ - the $1^{st}$ and $2^{nd}$ derivatives of x with respect to time, $\\dot{y}$ , $\\ddot{y}$ -the $1^{st}$ and $2^{nd}$ derivatives of y with respect to time.}\n",
    "\\end{equation}"
   ]
  },
  {
   "cell_type": "markdown",
   "metadata": {},
   "source": [
    "### 1.2"
   ]
  },
  {
   "cell_type": "markdown",
   "metadata": {},
   "source": [
    "\\begin{equation}\n",
    "\\dot{u}_1=v_1\n",
    "\\\\\n",
    "\\dot{v}_1=-\n",
    "\\frac{\\pi R^2 \\rho C}{2m} v_1\n",
    "\\sqrt{{v_1}^2+{v_2}^2}\n",
    "\\end{equation}\n",
    "\n",
    "\\begin{equation}\n",
    "\\dot{u}_2=v_2\n",
    "\\\\\n",
    "\\dot{v}_2=-g-\n",
    "\\frac{\\pi R^2 \\rho C}{2m} v_2\n",
    "\\sqrt{{v_2}^2+{v_1}^2}\n",
    "\\end{equation}\n",
    "\n",
    "\\\\\n",
    "\\begin{equation}\n",
    "\\text{Equations were derived by substitution:}\n",
    "\\end{equation}\n",
    "\n",
    "\\begin{equation}\n",
    "u_1=x\n",
    "\\\\\n",
    "v_1=\\dot{x}\n",
    "\\\\\n",
    "u_2=y\n",
    "\\\\\n",
    "v_2=\\dot{y}\n",
    "\\end{equation}"
   ]
  },
  {
   "cell_type": "markdown",
   "metadata": {},
   "source": [
    "### 1.3"
   ]
  },
  {
   "cell_type": "code",
   "execution_count": 114,
   "metadata": {},
   "outputs": [
    {
     "data": {
      "image/png": "[encoded data removed]",
      "text/plain": [
       "<Figure size 432x288 with 1 Axes>"
      ]
     },
     "metadata": {
      "needs_background": "light"
     },
     "output_type": "display_data"
    }
   ],
   "source": [
    "import matplotlib.pyplot as plt\n",
    "import numpy as np\n",
    "\n",
    "m=1  \n",
    "R=0.08\n",
    "theta=(30*np.pi)/180  \n",
    "v=100  \n",
    "rho=1.22  \n",
    "C=0.47  \n",
    "g=9.8\n",
    "x0=v*np.cos(theta)\n",
    "y0=v*np.sin(theta)\n",
    "c=(np.pi*(R**2)*rho*C)/(2*m)\n",
    "\n",
    "#first order DE\n",
    "def u1(x):\n",
    "    return x\n",
    "\n",
    "def dv1(v1,v2):\n",
    "    return -c*v1*np.sqrt(v1**2+v2**2)\n",
    "\n",
    "def u2(y):\n",
    "    return y\n",
    "\n",
    "def dv2(v1,v2):\n",
    "    return -g-c*v2*np.sqrt(v1**2+v2**2)\n",
    "\n",
    "#coefficients for RK4\n",
    "def K1(h,f,arr1,arr2):\n",
    "    return h*f(arr1,arr2)\n",
    "\n",
    "def K11(h,f,arr):\n",
    "    return h*f(arr)\n",
    "\n",
    "def K2(h,f,arr1,arr2,k1,k2,d):\n",
    "    return h*f(arr1+d*k1,arr2+d*k2)\n",
    "\n",
    "def K22(h,f,arr,k1,d):\n",
    "    return h*f(arr+d*k1)\n",
    "\n",
    "    \n",
    "#RK4 code was taken and modified from e-book, the detailed information about source is mentioned under graph 1.\n",
    "#Title of e-book: \"Computational Mechanics featuring Matlab\"\n",
    "#Author:Richard Sonnenfeld\n",
    "#Date of publication: August 20,2012\n",
    "#Source:http://kestrel.nmt.edu/~rsonnenf/phys241/compmech_rev1.42.pdf\n",
    "\n",
    "def RK4(x0,y0,t):\n",
    "    h=t[1]-t[0]\n",
    "    n=len(t)\n",
    "    x=np.zeros(n)\n",
    "    y=np.zeros(n)\n",
    "    vx=np.zeros(n)\n",
    "    vy=np.zeros(n)\n",
    "    vx[0]=x0\n",
    "    vy[0]=y0\n",
    "    i=0\n",
    "    for i in range(0,n-1):\n",
    "        k11=K1(h,dv1,vx[i],vy[i])\n",
    "        k12=K1(h,dv2,vx[i],vy[i])\n",
    "        c11=K11(h,u1,vx[i])\n",
    "        c12=K11(h,u2,vy[i])\n",
    "        \n",
    "        k21=K2(h,dv1,vx[i],vy[i],k11,k12,0.5)\n",
    "        k22=K2(h,dv2,vx[i],vy[i],k11,k12,0.5)\n",
    "        c21=K22(h,u1,vx[i],k11,0.5)\n",
    "        c22=K22(h,u2,vy[i],k12,0.5)\n",
    "        \n",
    "        k31=K2(h,dv1,vx[i],vy[i],k21,k22,0.5)\n",
    "        k32=K2(h,dv2,vx[i],vy[i],k21,k22,0.5)\n",
    "        c31=K22(h,u1,vx[i],k21,0.5)\n",
    "        c32=K22(h,u2,vy[i],k22,0.5)\n",
    "        \n",
    "        k41=K2(h,dv1,vx[i],vy[i],k31,k32,1)\n",
    "        k42=K2(h,dv2,vx[i],vy[i],k31,k32,1)\n",
    "        c41=K22(h,u1,vx[i],k31,1)\n",
    "        c42=K22(h,u2,vy[i],k32,1)\n",
    "        \n",
    "        vx[i+1]=vx[i]+k11/6+k21/3+k31/3+k41/6\n",
    "        vy[i+1]=vy[i]+k12/6+k22/3+k32/3+k42/6\n",
    "        x[i+1]=x[i]+c11/6+c21/3+c31/3+c41/6\n",
    "        y[i+1]=y[i]+c12/6+c22/3+c32/3+c42/6\n",
    "        \n",
    "    return x,y\n",
    "\n",
    "h=0.1\n",
    "t=np.arange(0,10.3,h)\n",
    "x,y=RK4(x0,y0,t)\n",
    "\n",
    "#for x,y without air resistance \n",
    "xwar=np.zeros(len(t))\n",
    "ywar=np.zeros(len(t))\n",
    "for i in range(0,len(t)):\n",
    "    xwar[i]=x0*t[i]\n",
    "    ywar[i]=y0*t[i]-0.5*g*(t[i]**2)\n",
    "    \n",
    "#graphs\n",
    "plt.title('Graph 1: projectile motion of a cannonball',size=15)\n",
    "plt.plot(x,y,color='orange',label='projectile motion with air resistance')\n",
    "plt.plot(xwar,ywar,color='blue',label='projectile motion without air resistance')\n",
    "\n",
    "plt.xlabel(r'x in meters',size=15)\n",
    "plt.ylabel(r'y in meters',size=15)\n",
    "plt.legend(loc='upper left',fontsize=12)\n",
    "plt.ylim((0,200))\n",
    "\n",
    "plt.grid()\n",
    "plt.show()\n"
   ]
  },
  {
   "cell_type": "markdown",
   "metadata": {},
   "source": [
    "Code for RK4 method was taken from e-book:\"Computational Mechanics featuring Matlab\",\n",
    "<br>Author: Richard Sonnenfeld,\n",
    "<br>Date of publication: August 20,2012\n",
    "<br>Chapter: CHAPTER 8. RUNGE-KUTTA METHOD AND ORBITAL SIMULATION, pg.172. \n",
    "<br> Original language of code: MATLAB\n",
    "<br>Comment: I a little bit modified this code"
   ]
  },
  {
   "cell_type": "markdown",
   "metadata": {},
   "source": [
    "### 1.4"
   ]
  },
  {
   "cell_type": "code",
   "execution_count": 89,
   "metadata": {},
   "outputs": [
    {
     "name": "stdout",
     "output_type": "stream",
     "text": [
      "total distance (over horiz ground) with air resistance=242.65616794466666 m\n"
     ]
    }
   ],
   "source": [
    "def totdist(x,y):\n",
    "    n=len(x)-1\n",
    "    x2=np.zeros(n)\n",
    "    y2=np.zeros(n)\n",
    "    \n",
    "    for i in range(0,n):\n",
    "        x2[i]=x[i+1]\n",
    "        y2[i]=y[i+1]\n",
    "        \n",
    "    ymin=np.min(np.abs(y2))\n",
    "    \n",
    "    for i in range(0,len(x2)):\n",
    "        if(np.abs(y2[i])==ymin):\n",
    "            return x2[i]\n",
    "            break\n",
    "\n",
    "dist=totdist(x,y)\n",
    "\n",
    "print(f'total distance (over horiz ground) with air resistance={dist} m')\n",
    "\n",
    "        "
   ]
  },
  {
   "cell_type": "markdown",
   "metadata": {},
   "source": [
    "### 1.5"
   ]
  },
  {
   "cell_type": "code",
   "execution_count": 96,
   "metadata": {},
   "outputs": [
    {
     "data": {
      "image/png": "[encoded data removed]",
      "text/plain": [
       "<Figure size 432x288 with 1 Axes>"
      ]
     },
     "metadata": {
      "needs_background": "light"
     },
     "output_type": "display_data"
    }
   ],
   "source": [
    "c2=(np.pi*(R**2)*rho*C)/2\n",
    "\n",
    "#first order DE\n",
    "def u1(x):\n",
    "    return x\n",
    "\n",
    "def dv1(v1,v2,m):\n",
    "    return -(c2/m)*v1*np.sqrt(v1**2+v2**2)\n",
    "\n",
    "def u2(y):\n",
    "    return y\n",
    "\n",
    "def dv2(v1,v2,m):\n",
    "    return -g-(c2/m)*v2*np.sqrt(v1**2+v2**2)\n",
    "\n",
    "#coefficients for RK4\n",
    "def K1(h,f,arr1,arr2,m):\n",
    "    return h*f(arr1,arr2,m)\n",
    "\n",
    "def K11(h,f,arr):\n",
    "    return h*f(arr)\n",
    "\n",
    "def K2(h,f,arr1,arr2,k1,k2,d,m):\n",
    "    return h*f(arr1+d*k1,arr2+d*k2,m)\n",
    "\n",
    "def K22(h,f,arr,k1,d):\n",
    "    return h*f(arr+d*k1)\n",
    "\n",
    "#modified RK4, mass was added as input\n",
    "def RK4(x0,y0,t,m):\n",
    "    h=t[1]-t[0]\n",
    "    n=len(t)\n",
    "    x=np.zeros(n)\n",
    "    y=np.zeros(n)\n",
    "    vx=np.zeros(n)\n",
    "    vy=np.zeros(n)\n",
    "    vx[0]=x0\n",
    "    vy[0]=y0\n",
    "    i=0\n",
    "    for i in range(0,n-1):\n",
    "        k11=K1(h,dv1,vx[i],vy[i],m)\n",
    "        k12=K1(h,dv2,vx[i],vy[i],m)\n",
    "        c11=K11(h,u1,vx[i])\n",
    "        c12=K11(h,u2,vy[i])\n",
    "        \n",
    "        k21=K2(h,dv1,vx[i],vy[i],k11,k12,0.5,m)\n",
    "        k22=K2(h,dv2,vx[i],vy[i],k11,k12,0.5,m)\n",
    "        c21=K22(h,u1,vx[i],k11,0.5)\n",
    "        c22=K22(h,u2,vy[i],k12,0.5)\n",
    "        \n",
    "        k31=K2(h,dv1,vx[i],vy[i],k21,k22,0.5,m)\n",
    "        k32=K2(h,dv2,vx[i],vy[i],k21,k22,0.5,m)\n",
    "        c31=K22(h,u1,vx[i],k21,0.5)\n",
    "        c32=K22(h,u2,vy[i],k22,0.5)\n",
    "        \n",
    "        k41=K2(h,dv1,vx[i],vy[i],k31,k32,1,m)\n",
    "        k42=K2(h,dv2,vx[i],vy[i],k31,k32,1,m)\n",
    "        c41=K22(h,u1,vx[i],k31,1)\n",
    "        c42=K22(h,u2,vy[i],k32,1)\n",
    "        \n",
    "        vx[i+1]=vx[i]+k11/6+k21/3+k31/3+k41/6\n",
    "        vy[i+1]=vy[i]+k12/6+k22/3+k32/3+k42/6\n",
    "        x[i+1]=x[i]+c11/6+c21/3+c31/3+c41/6\n",
    "        y[i+1]=y[i]+c12/6+c22/3+c32/3+c42/6\n",
    "        \n",
    "    return x,y\n",
    "\n",
    "def totdist(x,y):\n",
    "    n=len(x)-1\n",
    "    x2=np.zeros(n)\n",
    "    y2=np.zeros(n)\n",
    "    \n",
    "    for i in range(0,n):\n",
    "        x2[i]=x[i+1]\n",
    "        y2[i]=y[i+1]\n",
    "        \n",
    "    ymin=np.min(np.abs(y2))\n",
    "    for i in range(0,len(x2)):\n",
    "        if(np.abs(y2[i])==ymin):\n",
    "            return x2[i]\n",
    "            break\n",
    "\n",
    "#return array of total horiz distance as function of mass\n",
    "def totdistmass(m,x0,y0,t):\n",
    "    distm=np.zeros(len(m))\n",
    "    for i in range (0,len(m)):\n",
    "        x,y=RK4(x0,y0,t,m[i])\n",
    "        #print(x,y)\n",
    "        distm[i]=totdist(x,y)\n",
    "        #print(distm[i])\n",
    "    return distm\n",
    "\n",
    "m=np.arange(0.05,100,0.1)\n",
    "distm=totdistmass(m,x0,y0,t)\n",
    "totdistwoar=((v**2)*np.sin(2*theta))/g\n",
    "\n",
    "#array of distance without air resistancee\n",
    "disrwar=[]\n",
    "for i in range(0,len(m)):\n",
    "    disrwar.append(totdistwoar)\n",
    "    \n",
    "#graphs\n",
    "plt.title('Graph 2: total distance travelled and mass',size=15)\n",
    "plt.plot(m,distm,color='orange',label='projectile motion with air resistance')\n",
    "plt.plot(m,disrwar,color='blue',label='projectile motion without air resistance')\n",
    "\n",
    "plt.xlabel(r'mass in kg',size=15)\n",
    "plt.ylabel(r'total distance in meters',size=15)\n",
    "plt.legend(loc='lower right',fontsize=12)\n",
    "\n",
    "plt.grid()\n",
    "plt.show()\n"
   ]
  },
  {
   "cell_type": "markdown",
   "metadata": {},
   "source": [
    "### 1.6"
   ]
  },
  {
   "cell_type": "markdown",
   "metadata": {},
   "source": [
    "Based on graph 2: \"Total distance travelled and mass\", it can be seen that when mass increases total travelled horizontal distance increases too in the beginning, after some mass, the function becomes horizontal, i.e. after some max mass is achieved, the next increases in mass doen't not significantly affect total horizontal distance of the  ball under effect of air resistance"
   ]
  },
  {
   "cell_type": "markdown",
   "metadata": {},
   "source": [
    "## Problem 2"
   ]
  },
  {
   "cell_type": "markdown",
   "metadata": {},
   "source": [
    "### 2.1"
   ]
  },
  {
   "cell_type": "code",
   "execution_count": 12,
   "metadata": {},
   "outputs": [
    {
     "name": "stdout",
     "output_type": "stream",
     "text": [
      "For polynomial fit of degree n=1: a0=-2758.943681207381, a1=1.5656737982768576\n"
     ]
    }
   ],
   "source": [
    "import numpy as np\n",
    "\n",
    "datafile = 'data.txt'\n",
    "file = open(datafile, 'r')\n",
    "contents = file.read()\n",
    "file.close()\n",
    "contents\n",
    "\n",
    "Data = np.loadtxt(datafile, comments='#')\n",
    "years=Data[:,0]\n",
    "meas=Data[:,1]\n",
    "\n",
    "def polyn1(x,y):\n",
    "    sx=0\n",
    "    sy=0\n",
    "    sx2=0\n",
    "    sxy=0\n",
    "    \n",
    "    for i in range(0,len(x)):\n",
    "        sx=sx+x[i]\n",
    "        sy=sy+y[i]\n",
    "        sx2=sx2+x[i]*x[i]\n",
    "        sxy=sxy+x[i]*y[i]\n",
    "        \n",
    "    a0=(sy*sx2-sxy*sx)/(len(x)*sx2-sx**2)\n",
    "    a1=(len(x)*sxy-sx*sy)/(len(x)*sx2-sx**2)\n",
    "    return a0,a1\n",
    "\n",
    "a,b=polyn1(years,meas)\n",
    "print(f'For polynomial fit of degree n=1: a0={a}, a1={b}')"
   ]
  },
  {
   "cell_type": "markdown",
   "metadata": {},
   "source": [
    "### 2.2"
   ]
  },
  {
   "cell_type": "code",
   "execution_count": 13,
   "metadata": {},
   "outputs": [
    {
     "name": "stdout",
     "output_type": "stream",
     "text": [
      "For polynomial fit of degree n=2: a0=47062.18317725434, a1=-48.54710617568969, a2=0.01260057928259697\n"
     ]
    }
   ],
   "source": [
    "def polyn2(x,y):\n",
    "    sx=0\n",
    "    sy=0\n",
    "    sx2=0\n",
    "    sxy=0\n",
    "    syx2=0\n",
    "    sx3=0\n",
    "    sx4=0\n",
    "    \n",
    "    for i in range(0,len(x)):\n",
    "        sx=sx+x[i]\n",
    "        sy=sy+y[i]\n",
    "        sx2=sx2+x[i]*x[i]\n",
    "        sxy=sxy+x[i]*y[i]\n",
    "        syx2=syx2+y[i]*(x[i]**2)\n",
    "        sx3=sx3+x[i]**3\n",
    "        sx4=sx4+x[i]**4\n",
    "        \n",
    "    detA=len(x)*(sx2*sx4-sx3**2)-sx*(sx*sx4-sx3*sx2)+sx2*(sx*sx3-sx2**2)\n",
    "    a0=(sy*(sx2*sx4-sx3**2)-sx*(sxy*sx4-sx3*syx2)+sx2*(sxy*sx3-sx2*syx2))/detA\n",
    "    a1=(len(x)*(sxy*sx4-syx2*sx3)-sy*(sx*sx4-sx3*sx2)+sx2*(sx*syx2-sxy*sx2))/detA\n",
    "    a2=(len(x)*(sx2*syx2-sx3*sxy)-sx*(sx*syx2-sxy*sx2)+sy*(sx*sx3-sx2**2))/detA\n",
    "    return a0,a1,a2\n",
    "\n",
    "c,d,e=polyn2(years,meas)\n",
    "print(f'For polynomial fit of degree n=2: a0={c}, a1={d}, a2={e}')\n"
   ]
  },
  {
   "cell_type": "markdown",
   "metadata": {},
   "source": [
    "### 2.3"
   ]
  },
  {
   "cell_type": "code",
   "execution_count": 14,
   "metadata": {},
   "outputs": [
    {
     "name": "stdout",
     "output_type": "stream",
     "text": [
      "For polynomial fit of degree n=1: resudial=713.3569985292116\n",
      "For polynomial fit of degree n=2: resudial=28.223661337434727\n"
     ]
    }
   ],
   "source": [
    "def resid(y,yapp):\n",
    "    sumres=0\n",
    "    for i in range (0,len(y)):\n",
    "        sumres=sumres+(y[i]-yapp[i])**2\n",
    "    return sumres\n",
    "\n",
    "def f1(x):\n",
    "    return a+b*x\n",
    "\n",
    "def f2(x):\n",
    "    return c+d*x+e*(x**2)\n",
    "\n",
    "y1=f1(years)\n",
    "y2=f2(years)\n",
    "\n",
    "res1=resid(meas,y1)\n",
    "res2=resid(meas,y2)\n",
    "\n",
    "print(f'For polynomial fit of degree n=1: resudial={res1}')\n",
    "print(f'For polynomial fit of degree n=2: resudial={res2}')"
   ]
  },
  {
   "cell_type": "markdown",
   "metadata": {},
   "source": [
    "Residual of quadratic polynomial=28.223 is less than residual of linear polynomial=713.356.\n",
    "<br>The results mean quadratic polynomial fits given data much better and more precise than linear polynomial, as residual calculates sum of squares of difference between given value and approximate value.\n"
   ]
  },
  {
   "cell_type": "markdown",
   "metadata": {},
   "source": [
    "### 2.4"
   ]
  },
  {
   "cell_type": "code",
   "execution_count": 15,
   "metadata": {},
   "outputs": [
    {
     "data": {
      "image/png": "[encoded data removed]",
      "text/plain": [
       "<Figure size 432x288 with 1 Axes>"
      ]
     },
     "metadata": {
      "needs_background": "light"
     },
     "output_type": "display_data"
    }
   ],
   "source": [
    "import matplotlib.pyplot as plt\n",
    "import numpy as np\n",
    "\n",
    "plt.title('Graph: polynomial fit of given data',size=15)\n",
    "plt.plot(years,meas,color='black',label='initial graph')\n",
    "plt.plot(years,y1,color='blue',label='linear polyn fit')\n",
    "plt.plot(years,y2,color='orange',label='quadratic polyn fit')\n",
    "\n",
    "plt.xlabel(r'Years',size=15)\n",
    "plt.ylabel(r'Measurements',size=15)\n",
    "plt.legend(loc='upper left',fontsize=12)\n",
    "\n",
    "plt.grid()\n",
    "plt.show()"
   ]
  },
  {
   "cell_type": "code",
   "execution_count": null,
   "metadata": {},
   "outputs": [],
   "source": []
  }
 ],
 "metadata": {
  "kernelspec": {
   "display_name": "Python 3",
   "language": "python",
   "name": "python3"
  },
  "language_info": {
   "codemirror_mode": {
    "name": "ipython",
    "version": 3
   },
   "file_extension": ".py",
   "mimetype": "text/x-python",
   "name": "python",
   "nbconvert_exporter": "python",
   "pygments_lexer": "ipython3",
   "version": "3.7.4"
  }
 },
 "nbformat": 4,
 "nbformat_minor": 2
}
